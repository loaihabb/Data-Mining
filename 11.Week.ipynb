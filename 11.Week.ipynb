{
 "cells": [
  {
   "cell_type": "code",
   "execution_count": 3,
   "metadata": {},
   "outputs": [],
   "source": [
    "import pandas as pd\n",
    "import datetime as dt"
   ]
  },
  {
   "cell_type": "code",
   "execution_count": 2,
   "metadata": {},
   "outputs": [
    {
     "data": {
      "text/plain": [
       "datetime.date(1976, 1, 23)"
      ]
     },
     "execution_count": 2,
     "metadata": {},
     "output_type": "execute_result"
    }
   ],
   "source": [
    "#dt.date() # date sınıfı ile bir tarih tanımlayabiliyoruz \n",
    "birthdate = dt.date(1976, 1, 23)\n",
    "birthdate"
   ]
  },
  {
   "cell_type": "code",
   "execution_count": 3,
   "metadata": {},
   "outputs": [
    {
     "data": {
      "text/plain": [
       "1976"
      ]
     },
     "execution_count": 3,
     "metadata": {},
     "output_type": "execute_result"
    }
   ],
   "source": [
    "birthdate.day # sadece günü getirebiliriz\n",
    "birthdate.month # sadece ayı getirebiliriz\n",
    "birthdate.year # sadece yılı getirebiliriz"
   ]
  },
  {
   "cell_type": "code",
   "execution_count": 13,
   "metadata": {},
   "outputs": [
    {
     "data": {
      "text/plain": [
       "datetime.datetime(1976, 1, 23, 12, 15, 53)"
      ]
     },
     "execution_count": 13,
     "metadata": {},
     "output_type": "execute_result"
    }
   ],
   "source": [
    "dt.datetime(1976,1,23, 12, 15, 53) #saat dakika saniye de yazabiliriz"
   ]
  },
  {
   "cell_type": "code",
   "execution_count": 12,
   "metadata": {},
   "outputs": [
    {
     "data": {
      "text/plain": [
       "'1976-01-23 12:15:53'"
      ]
     },
     "execution_count": 12,
     "metadata": {},
     "output_type": "execute_result"
    }
   ],
   "source": [
    "str(dt.datetime(1976,1,23, 12, 15, 53)) # string'e çevirirsek tam tarih formatında görebiliriz "
   ]
  },
  {
   "cell_type": "code",
   "execution_count": 13,
   "metadata": {},
   "outputs": [
    {
     "data": {
      "text/plain": [
       "datetime.datetime(1976, 1, 23, 12, 15, 53)"
      ]
     },
     "execution_count": 13,
     "metadata": {},
     "output_type": "execute_result"
    }
   ],
   "source": [
    "sometime =  dt.datetime(1976,1,23, 12, 15, 53)\n",
    "sometime"
   ]
  },
  {
   "cell_type": "code",
   "execution_count": 14,
   "metadata": {},
   "outputs": [
    {
     "data": {
      "text/plain": [
       "53"
      ]
     },
     "execution_count": 14,
     "metadata": {},
     "output_type": "execute_result"
    }
   ],
   "source": [
    "sometime.hour #  saat\n",
    "sometime.minute # dakika \n",
    "sometime.second # saniye "
   ]
  },
  {
   "cell_type": "code",
   "execution_count": 16,
   "metadata": {},
   "outputs": [
    {
     "data": {
      "text/plain": [
       "'21.00.2022'"
      ]
     },
     "execution_count": 16,
     "metadata": {},
     "output_type": "execute_result"
    }
   ],
   "source": [
    "pd.Timestamp(\"2022-11-21\") # tanımlayabiliriz böyle de\n",
    "pd.Timestamp(\"2022/11/21\")\n",
    "pd.Timestamp(\"2022.11.21\")\n",
    "pd.Timestamp(\"2022-11-21 8:12:24 PM\") #20^e çevirir\n",
    "pd.Timestamp(\"2022-11-21\").strftime(\"%d.%m.%Y\") #önce gün, ay, yıl"
   ]
  },
  {
   "cell_type": "code",
   "execution_count": 16,
   "metadata": {},
   "outputs": [
    {
     "data": {
      "text/plain": [
       "Timestamp('2021-11-11 15:11:11')"
      ]
     },
     "execution_count": 16,
     "metadata": {},
     "output_type": "execute_result"
    }
   ],
   "source": [
    "pd.Timestamp(dt.datetime(2021,11,11,15,11,11))"
   ]
  },
  {
   "cell_type": "code",
   "execution_count": 17,
   "metadata": {},
   "outputs": [
    {
     "data": {
      "text/plain": [
       "['2022-11-21', '2019-1-15', '1996-10-12']"
      ]
     },
     "execution_count": 17,
     "metadata": {},
     "output_type": "execute_result"
    }
   ],
   "source": [
    "dates = [\"2022-11-21\", \"2019-1-15\", \"1996-10-12\"]\n",
    "dates"
   ]
  },
  {
   "cell_type": "code",
   "execution_count": 18,
   "metadata": {},
   "outputs": [
    {
     "data": {
      "text/plain": [
       "DatetimeIndex(['2022-11-21', '2019-01-15', '1996-10-12'], dtype='datetime64[ns]', freq=None)"
      ]
     },
     "execution_count": 18,
     "metadata": {},
     "output_type": "execute_result"
    }
   ],
   "source": [
    "pd.DatetimeIndex(dates)"
   ]
  },
  {
   "cell_type": "code",
   "execution_count": 19,
   "metadata": {},
   "outputs": [
    {
     "data": {
      "text/plain": [
       "DatetimeIndex(['2022-11-21', '2019-01-15', '1996-10-12'], dtype='datetime64[ns]', freq=None)"
      ]
     },
     "execution_count": 19,
     "metadata": {},
     "output_type": "execute_result"
    }
   ],
   "source": [
    "dates = [dt.date(2022,11,21), dt.date(2019,1,15), dt.date(1996,10,12)]\n",
    "pd.DatetimeIndex(dates)"
   ]
  },
  {
   "cell_type": "code",
   "execution_count": 21,
   "metadata": {},
   "outputs": [
    {
     "data": {
      "text/plain": [
       "2022-11-21    100\n",
       "2019-01-15    200\n",
       "1996-10-12    300\n",
       "dtype: int64"
      ]
     },
     "execution_count": 21,
     "metadata": {},
     "output_type": "execute_result"
    }
   ],
   "source": [
    "dates = [\"2022-11-21\", \"2019-1-15\", \"1996-10-12\"]\n",
    "sales = [100, 200, 300]\n",
    "\n",
    "indexes =pd.DatetimeIndex(dates)\n",
    "\n",
    "series = pd.Series(sales, index=dates) # böyle tarih üzerinde işlem yapamayız çevirmemiz lazım\n",
    "series = pd.Series(sales, index=indexes) # böyle olması lazım tarih üzerinde işlem yapıcaksask\n",
    "series"
   ]
  },
  {
   "cell_type": "code",
   "execution_count": 22,
   "metadata": {},
   "outputs": [
    {
     "data": {
      "text/plain": [
       "DatetimeIndex(['2022-11-21', '2019-01-15', '1996-10-12'], dtype='datetime64[ns]', freq=None)"
      ]
     },
     "execution_count": 22,
     "metadata": {},
     "output_type": "execute_result"
    }
   ],
   "source": [
    "pd.to_datetime(\"2021-1-15\")\n",
    "pd.to_datetime(\"2021-1-15 13:15:15\")\n",
    "pd.to_datetime([\"2022-11-21\", \"2019-1-15\", \"1996-10-12\"]) # dateTimeIndex olur type'ı"
   ]
  },
  {
   "cell_type": "code",
   "execution_count": 22,
   "metadata": {},
   "outputs": [
    {
     "data": {
      "text/plain": [
       "0         2022-11-21\n",
       "1          2019-1-15\n",
       "2         1996-10-12\n",
       "3               2016\n",
       "4    March 7th, 2018\n",
       "dtype: object"
      ]
     },
     "execution_count": 22,
     "metadata": {},
     "output_type": "execute_result"
    }
   ],
   "source": [
    "date_series = pd.Series([\"2022-11-21\", \"2019-1-15\", \"1996-10-12\",\n",
    "                         \"2016\", \"March 7th, 2018\"])\n",
    "date_series"
   ]
  },
  {
   "cell_type": "code",
   "execution_count": 23,
   "metadata": {},
   "outputs": [
    {
     "data": {
      "text/plain": [
       "0   2022-11-21\n",
       "1   2019-01-15\n",
       "2   1996-10-12\n",
       "3   2016-01-01\n",
       "4   2018-03-07\n",
       "dtype: datetime64[ns]"
      ]
     },
     "execution_count": 23,
     "metadata": {},
     "output_type": "execute_result"
    }
   ],
   "source": [
    "pd.to_datetime(date_series)  # yine normal tarihe çevirebiliriz"
   ]
  },
  {
   "cell_type": "code",
   "execution_count": 23,
   "metadata": {},
   "outputs": [
    {
     "data": {
      "text/plain": [
       "0         2022-11-21\n",
       "1          2019-1-15\n",
       "2         1996-10-12\n",
       "3               2016\n",
       "4    March 7th, 2018\n",
       "5               Ecir\n",
       "6          2014-2-30\n",
       "dtype: object"
      ]
     },
     "execution_count": 23,
     "metadata": {},
     "output_type": "execute_result"
    }
   ],
   "source": [
    "new_series = pd.Series([\"2022-11-21\", \"2019-1-15\", \"1996-10-12\",\n",
    "                         \"2016\", \"March 7th, 2018\", \"Ecir\", \"2014-2-30\"])\n",
    "new_series"
   ]
  },
  {
   "cell_type": "code",
   "execution_count": 25,
   "metadata": {},
   "outputs": [
    {
     "data": {
      "text/plain": [
       "0   2022-11-21\n",
       "1   2019-01-15\n",
       "2   1996-10-12\n",
       "3   2016-01-01\n",
       "4   2018-03-07\n",
       "5          NaT\n",
       "6          NaT\n",
       "dtype: datetime64[ns]"
      ]
     },
     "execution_count": 25,
     "metadata": {},
     "output_type": "execute_result"
    }
   ],
   "source": [
    "pd.to_datetime(new_series, errors=\"coerce\") # errors= çeviremediği değerleri NaT olarak verilir"
   ]
  },
  {
   "cell_type": "code",
   "execution_count": 48,
   "metadata": {},
   "outputs": [
    {
     "data": {
      "text/plain": [
       "DatetimeIndex(['1970-01-01 00:02:50', '1970-01-01 00:03:25'], dtype='datetime64[ns]', freq=None)"
      ]
     },
     "execution_count": 48,
     "metadata": {},
     "output_type": "execute_result"
    }
   ],
   "source": [
    "pd.to_datetime([1539929246, 1571465246], unit=\"s\") # s -> linux time olduğunu belirtiyor\n",
    "pd.to_datetime([170, 205], unit=\"s\") # 1970'den milisaniye olarak hesaplıyor "
   ]
  },
  {
   "cell_type": "code",
   "execution_count": 27,
   "metadata": {},
   "outputs": [
    {
     "data": {
      "text/plain": [
       "DatetimeIndex(['2022-11-01', '2022-11-02', '2022-11-03', '2022-11-04',\n",
       "               '2022-11-05', '2022-11-06', '2022-11-07', '2022-11-08',\n",
       "               '2022-11-09', '2022-11-10', '2022-11-11', '2022-11-12',\n",
       "               '2022-11-13', '2022-11-14', '2022-11-15'],\n",
       "              dtype='datetime64[ns]', freq='D')"
      ]
     },
     "execution_count": 27,
     "metadata": {},
     "output_type": "execute_result"
    }
   ],
   "source": [
    "time = pd.date_range(start=\"2022-11-1\", end=\"2022-11-15\")# iki tarih arasında date index oluşturuyor\n",
    "#parametre vermezsek tüm günleri geri getiriyor \n",
    "time"
   ]
  },
  {
   "cell_type": "code",
   "execution_count": 28,
   "metadata": {},
   "outputs": [
    {
     "data": {
      "text/plain": [
       "pandas._libs.tslibs.timestamps.Timestamp"
      ]
     },
     "execution_count": 28,
     "metadata": {},
     "output_type": "execute_result"
    }
   ],
   "source": [
    "type(time)# dateTimeIndex\n",
    "type(time[0]) #içderindeki herhangi bir değer Timestamp olarak belirleniyor "
   ]
  },
  {
   "cell_type": "code",
   "execution_count": 29,
   "metadata": {},
   "outputs": [
    {
     "data": {
      "text/plain": [
       "DatetimeIndex(['2022-01-01', '2023-01-01', '2024-01-01', '2025-01-01',\n",
       "               '2026-01-01', '2027-01-01', '2028-01-01', '2029-01-01',\n",
       "               '2030-01-01', '2031-01-01', '2032-01-01', '2033-01-01',\n",
       "               '2034-01-01', '2035-01-01', '2036-01-01', '2037-01-01',\n",
       "               '2038-01-01', '2039-01-01', '2040-01-01', '2041-01-01',\n",
       "               '2042-01-01', '2043-01-01', '2044-01-01', '2045-01-01',\n",
       "               '2046-01-01', '2047-01-01', '2048-01-01', '2049-01-01',\n",
       "               '2050-01-01'],\n",
       "              dtype='datetime64[ns]', freq='AS-JAN')"
      ]
     },
     "execution_count": 29,
     "metadata": {},
     "output_type": "execute_result"
    }
   ],
   "source": [
    "pd.date_range(start=\"2022-11-1\", end=\"2022-11-15\", freq=\"2D\") #ikişer gün\n",
    "pd.date_range(start=\"2022-11-1\", end=\"2022-11-15\", freq=\"B\") # sadece iş günleri\n",
    "pd.date_range(start=\"2022-11-1\", end=\"2022-11-15\", freq=\"w\") #normal başlangıcı SONDAY\n",
    "pd.date_range(start=\"2022-11-1\", end=\"2022-11-15\", freq=\"w-MON\")\n",
    "pd.date_range(start=\"2022-11-1\", end=\"2022-11-15\", freq=\"H\") # birer saat aralıkla\n",
    "pd.date_range(start=\"2022-11-1\", end=\"2022-11-15\", freq=\"6H\") # 6 saat aralıkla ya da istediğimiz aralığı verebiliriz\n",
    "pd.date_range(start=\"2021-11-1\", end=\"2022-11-15\", freq=\"M\") # her ayın sonunu alıyor\n",
    "pd.date_range(start=\"2021-11-1\", end=\"2022-11-15\", freq=\"MS\") #month start, her ayın başı olur\n",
    "pd.date_range(start=\"2021-11-1\", end=\"2050-11-15\", freq=\"Y\") # her yılın sounu alıyor\n",
    "pd.date_range(start=\"2021-11-1\", end=\"2050-11-15\", freq=\"YS\") # her yılın başını alıyor diye belirttik"
   ]
  },
  {
   "cell_type": "code",
   "execution_count": 30,
   "metadata": {
    "collapsed": true
   },
   "outputs": [
    {
     "data": {
      "text/plain": [
       "DatetimeIndex(['2021-11-01', '2021-11-08', '2021-11-15', '2021-11-22',\n",
       "               '2021-11-29', '2021-12-06', '2021-12-13', '2021-12-20',\n",
       "               '2021-12-27', '2022-01-03', '2022-01-10', '2022-01-17',\n",
       "               '2022-01-24', '2022-01-31', '2022-02-07', '2022-02-14',\n",
       "               '2022-02-21', '2022-02-28', '2022-03-07', '2022-03-14',\n",
       "               '2022-03-21', '2022-03-28', '2022-04-04', '2022-04-11',\n",
       "               '2022-04-18'],\n",
       "              dtype='datetime64[ns]', freq='W-MON')"
      ]
     },
     "execution_count": 30,
     "metadata": {},
     "output_type": "execute_result"
    }
   ],
   "source": [
    "pd.date_range(start=\"2021-11-1\", periods=25, freq=\"D\") # bu tarihten itibaren 25 Day ya da seçtiğimiz şeyi 25 defa tekrarla\n",
    "pd.date_range(start=\"2021-11-1\", periods=25, freq=\"B\") # hafta sonlarını işin içinden çıkarmış olduk \n",
    "pd.date_range(start=\"2021-11-1\", periods=25, freq=\"W\") # week day, normal başlangıç pazar günü\n",
    "pd.date_range(start=\"2021-11-1\", periods=25, freq=\"W-MON\")\n"
   ]
  },
  {
   "cell_type": "code",
   "execution_count": 31,
   "metadata": {
    "collapsed": true
   },
   "outputs": [
    {
     "data": {
      "text/plain": [
       "DatetimeIndex(['2000-01-01', '2000-01-25', '2000-02-18', '2000-03-13',\n",
       "               '2000-04-06', '2000-04-30', '2000-05-24', '2000-06-17',\n",
       "               '2000-07-11', '2000-08-04',\n",
       "               ...\n",
       "               '2010-05-20', '2010-06-13', '2010-07-07', '2010-07-31',\n",
       "               '2010-08-24', '2010-09-17', '2010-10-11', '2010-11-04',\n",
       "               '2010-11-28', '2010-12-22'],\n",
       "              dtype='datetime64[ns]', length=168, freq='24D')"
      ]
     },
     "execution_count": 31,
     "metadata": {},
     "output_type": "execute_result"
    }
   ],
   "source": [
    "temp_dates = pd.date_range(start=\"2000-01-01\", end=\"2010-12-31\", freq=\"24D\")\n",
    "temp_dates"
   ]
  },
  {
   "cell_type": "code",
   "execution_count": 32,
   "metadata": {
    "collapsed": true
   },
   "outputs": [
    {
     "data": {
      "text/plain": [
       "0   2000-01-01\n",
       "1   2000-01-25\n",
       "2   2000-02-18\n",
       "3   2000-03-13\n",
       "4   2000-04-06\n",
       "dtype: datetime64[ns]"
      ]
     },
     "execution_count": 32,
     "metadata": {},
     "output_type": "execute_result"
    }
   ],
   "source": [
    "temp_series = pd.Series(temp_dates) # Series'e çevirdik\n",
    "temp_series.head()"
   ]
  },
  {
   "cell_type": "code",
   "execution_count": 33,
   "metadata": {
    "collapsed": true
   },
   "outputs": [
    {
     "data": {
      "text/plain": [
       "0       True\n",
       "1      False\n",
       "2      False\n",
       "3      False\n",
       "4      False\n",
       "       ...  \n",
       "163    False\n",
       "164    False\n",
       "165    False\n",
       "166    False\n",
       "167    False\n",
       "Length: 168, dtype: bool"
      ]
     },
     "execution_count": 33,
     "metadata": {},
     "output_type": "execute_result"
    }
   ],
   "source": [
    "temp_series.dt.day # seri içindeki tüm günleri göster\n",
    "temp_series.dt.month\n",
    "temp_series.dt.year\n",
    "temp_series.dt.day_name() #daylerin isimleri\n",
    "temp_series.dt.is_quarter_start # çeyrek başlangıcı 1 ocak 1 nisan 1 temmuz (true,false)"
   ]
  },
  {
   "cell_type": "code",
   "execution_count": 34,
   "metadata": {
    "collapsed": true
   },
   "outputs": [
    {
     "data": {
      "text/plain": [
       "0     2000-01-01\n",
       "19    2001-04-01\n",
       "38    2002-07-01\n",
       "137   2009-01-01\n",
       "dtype: datetime64[ns]"
      ]
     },
     "execution_count": 34,
     "metadata": {},
     "output_type": "execute_result"
    }
   ],
   "source": [
    "temp_series[temp_series.dt.is_quarter_start] # çeyrek başlangıcını vericek (tarih olarak)"
   ]
  },
  {
   "cell_type": "code",
   "execution_count": 14,
   "metadata": {},
   "outputs": [],
   "source": [
    "from pandas_datareader import data"
   ]
  },
  {
   "cell_type": "code",
   "execution_count": 15,
   "metadata": {},
   "outputs": [
    {
     "data": {
      "text/html": [
       "<div>\n",
       "<style scoped>\n",
       "    .dataframe tbody tr th:only-of-type {\n",
       "        vertical-align: middle;\n",
       "    }\n",
       "\n",
       "    .dataframe tbody tr th {\n",
       "        vertical-align: top;\n",
       "    }\n",
       "\n",
       "    .dataframe thead th {\n",
       "        text-align: right;\n",
       "    }\n",
       "</style>\n",
       "<table border=\"1\" class=\"dataframe\">\n",
       "  <thead>\n",
       "    <tr style=\"text-align: right;\">\n",
       "      <th></th>\n",
       "      <th>High</th>\n",
       "      <th>Low</th>\n",
       "      <th>Open</th>\n",
       "      <th>Close</th>\n",
       "      <th>Volume</th>\n",
       "      <th>Adj Close</th>\n",
       "    </tr>\n",
       "    <tr>\n",
       "      <th>Date</th>\n",
       "      <th></th>\n",
       "      <th></th>\n",
       "      <th></th>\n",
       "      <th></th>\n",
       "      <th></th>\n",
       "      <th></th>\n",
       "    </tr>\n",
       "  </thead>\n",
       "  <tbody>\n",
       "    <tr>\n",
       "      <th>2012-01-03</th>\n",
       "      <td>26.959999</td>\n",
       "      <td>26.389999</td>\n",
       "      <td>26.549999</td>\n",
       "      <td>26.770000</td>\n",
       "      <td>64731500.0</td>\n",
       "      <td>21.466703</td>\n",
       "    </tr>\n",
       "    <tr>\n",
       "      <th>2012-01-04</th>\n",
       "      <td>27.469999</td>\n",
       "      <td>26.780001</td>\n",
       "      <td>26.820000</td>\n",
       "      <td>27.400000</td>\n",
       "      <td>80516100.0</td>\n",
       "      <td>21.971891</td>\n",
       "    </tr>\n",
       "    <tr>\n",
       "      <th>2012-01-05</th>\n",
       "      <td>27.730000</td>\n",
       "      <td>27.290001</td>\n",
       "      <td>27.379999</td>\n",
       "      <td>27.680000</td>\n",
       "      <td>56081400.0</td>\n",
       "      <td>22.196419</td>\n",
       "    </tr>\n",
       "    <tr>\n",
       "      <th>2012-01-06</th>\n",
       "      <td>28.190001</td>\n",
       "      <td>27.530001</td>\n",
       "      <td>27.530001</td>\n",
       "      <td>28.110001</td>\n",
       "      <td>99455500.0</td>\n",
       "      <td>22.541235</td>\n",
       "    </tr>\n",
       "    <tr>\n",
       "      <th>2012-01-09</th>\n",
       "      <td>28.100000</td>\n",
       "      <td>27.719999</td>\n",
       "      <td>28.049999</td>\n",
       "      <td>27.740000</td>\n",
       "      <td>59706800.0</td>\n",
       "      <td>22.244537</td>\n",
       "    </tr>\n",
       "  </tbody>\n",
       "</table>\n",
       "</div>"
      ],
      "text/plain": [
       "                 High        Low       Open      Close      Volume  Adj Close\n",
       "Date                                                                         \n",
       "2012-01-03  26.959999  26.389999  26.549999  26.770000  64731500.0  21.466703\n",
       "2012-01-04  27.469999  26.780001  26.820000  27.400000  80516100.0  21.971891\n",
       "2012-01-05  27.730000  27.290001  27.379999  27.680000  56081400.0  22.196419\n",
       "2012-01-06  28.190001  27.530001  27.530001  28.110001  99455500.0  22.541235\n",
       "2012-01-09  28.100000  27.719999  28.049999  27.740000  59706800.0  22.244537"
      ]
     },
     "execution_count": 15,
     "metadata": {},
     "output_type": "execute_result"
    }
   ],
   "source": [
    "stocks = data.DataReader(name=\"MSFT\", data_source=\"yahoo\", \n",
    "                         start=\"2012-01-01\", end=\"2022-10-31\") \n",
    "stocks.head()"
   ]
  },
  {
   "cell_type": "code",
   "execution_count": 16,
   "metadata": {},
   "outputs": [
    {
     "data": {
      "text/plain": [
       "High         2.819000e+01\n",
       "Low          2.753000e+01\n",
       "Open         2.753000e+01\n",
       "Close        2.811000e+01\n",
       "Volume       9.945550e+07\n",
       "Adj Close    2.254123e+01\n",
       "Name: 2012-01-06 00:00:00, dtype: float64"
      ]
     },
     "execution_count": 16,
     "metadata": {},
     "output_type": "execute_result"
    }
   ],
   "source": [
    "stocks.loc[\"2012-01-06\"] "
   ]
  },
  {
   "cell_type": "code",
   "execution_count": 17,
   "metadata": {
    "collapsed": true
   },
   "outputs": [
    {
     "data": {
      "text/html": [
       "<div>\n",
       "<style scoped>\n",
       "    .dataframe tbody tr th:only-of-type {\n",
       "        vertical-align: middle;\n",
       "    }\n",
       "\n",
       "    .dataframe tbody tr th {\n",
       "        vertical-align: top;\n",
       "    }\n",
       "\n",
       "    .dataframe thead th {\n",
       "        text-align: right;\n",
       "    }\n",
       "</style>\n",
       "<table border=\"1\" class=\"dataframe\">\n",
       "  <thead>\n",
       "    <tr style=\"text-align: right;\">\n",
       "      <th></th>\n",
       "      <th>High</th>\n",
       "      <th>Low</th>\n",
       "      <th>Open</th>\n",
       "      <th>Close</th>\n",
       "      <th>Volume</th>\n",
       "      <th>Adj Close</th>\n",
       "    </tr>\n",
       "    <tr>\n",
       "      <th>Date</th>\n",
       "      <th></th>\n",
       "      <th></th>\n",
       "      <th></th>\n",
       "      <th></th>\n",
       "      <th></th>\n",
       "      <th></th>\n",
       "    </tr>\n",
       "  </thead>\n",
       "  <tbody>\n",
       "    <tr>\n",
       "      <th>2014-01-02</th>\n",
       "      <td>37.400002</td>\n",
       "      <td>37.099998</td>\n",
       "      <td>37.349998</td>\n",
       "      <td>37.160000</td>\n",
       "      <td>30632200.0</td>\n",
       "      <td>31.568274</td>\n",
       "    </tr>\n",
       "    <tr>\n",
       "      <th>2014-01-03</th>\n",
       "      <td>37.220001</td>\n",
       "      <td>36.599998</td>\n",
       "      <td>37.200001</td>\n",
       "      <td>36.910000</td>\n",
       "      <td>31134800.0</td>\n",
       "      <td>31.355890</td>\n",
       "    </tr>\n",
       "    <tr>\n",
       "      <th>2014-01-06</th>\n",
       "      <td>36.889999</td>\n",
       "      <td>36.110001</td>\n",
       "      <td>36.849998</td>\n",
       "      <td>36.130001</td>\n",
       "      <td>43603700.0</td>\n",
       "      <td>30.693268</td>\n",
       "    </tr>\n",
       "    <tr>\n",
       "      <th>2014-01-07</th>\n",
       "      <td>36.490002</td>\n",
       "      <td>36.209999</td>\n",
       "      <td>36.330002</td>\n",
       "      <td>36.410000</td>\n",
       "      <td>35802800.0</td>\n",
       "      <td>30.931129</td>\n",
       "    </tr>\n",
       "    <tr>\n",
       "      <th>2014-01-08</th>\n",
       "      <td>36.139999</td>\n",
       "      <td>35.580002</td>\n",
       "      <td>36.000000</td>\n",
       "      <td>35.759998</td>\n",
       "      <td>59971700.0</td>\n",
       "      <td>30.378937</td>\n",
       "    </tr>\n",
       "    <tr>\n",
       "      <th>...</th>\n",
       "      <td>...</td>\n",
       "      <td>...</td>\n",
       "      <td>...</td>\n",
       "      <td>...</td>\n",
       "      <td>...</td>\n",
       "      <td>...</td>\n",
       "    </tr>\n",
       "    <tr>\n",
       "      <th>2015-12-24</th>\n",
       "      <td>55.959999</td>\n",
       "      <td>55.430000</td>\n",
       "      <td>55.860001</td>\n",
       "      <td>55.669998</td>\n",
       "      <td>9558500.0</td>\n",
       "      <td>49.910686</td>\n",
       "    </tr>\n",
       "    <tr>\n",
       "      <th>2015-12-28</th>\n",
       "      <td>55.950001</td>\n",
       "      <td>54.980000</td>\n",
       "      <td>55.349998</td>\n",
       "      <td>55.950001</td>\n",
       "      <td>22458300.0</td>\n",
       "      <td>50.161724</td>\n",
       "    </tr>\n",
       "    <tr>\n",
       "      <th>2015-12-29</th>\n",
       "      <td>56.849998</td>\n",
       "      <td>56.060001</td>\n",
       "      <td>56.290001</td>\n",
       "      <td>56.549999</td>\n",
       "      <td>27731400.0</td>\n",
       "      <td>50.699635</td>\n",
       "    </tr>\n",
       "    <tr>\n",
       "      <th>2015-12-30</th>\n",
       "      <td>56.779999</td>\n",
       "      <td>56.290001</td>\n",
       "      <td>56.470001</td>\n",
       "      <td>56.310001</td>\n",
       "      <td>21704500.0</td>\n",
       "      <td>50.484489</td>\n",
       "    </tr>\n",
       "    <tr>\n",
       "      <th>2015-12-31</th>\n",
       "      <td>56.189999</td>\n",
       "      <td>55.419998</td>\n",
       "      <td>56.040001</td>\n",
       "      <td>55.480000</td>\n",
       "      <td>27334100.0</td>\n",
       "      <td>49.740337</td>\n",
       "    </tr>\n",
       "  </tbody>\n",
       "</table>\n",
       "<p>504 rows × 6 columns</p>\n",
       "</div>"
      ],
      "text/plain": [
       "                 High        Low       Open      Close      Volume  Adj Close\n",
       "Date                                                                         \n",
       "2014-01-02  37.400002  37.099998  37.349998  37.160000  30632200.0  31.568274\n",
       "2014-01-03  37.220001  36.599998  37.200001  36.910000  31134800.0  31.355890\n",
       "2014-01-06  36.889999  36.110001  36.849998  36.130001  43603700.0  30.693268\n",
       "2014-01-07  36.490002  36.209999  36.330002  36.410000  35802800.0  30.931129\n",
       "2014-01-08  36.139999  35.580002  36.000000  35.759998  59971700.0  30.378937\n",
       "...               ...        ...        ...        ...         ...        ...\n",
       "2015-12-24  55.959999  55.430000  55.860001  55.669998   9558500.0  49.910686\n",
       "2015-12-28  55.950001  54.980000  55.349998  55.950001  22458300.0  50.161724\n",
       "2015-12-29  56.849998  56.060001  56.290001  56.549999  27731400.0  50.699635\n",
       "2015-12-30  56.779999  56.290001  56.470001  56.310001  21704500.0  50.484489\n",
       "2015-12-31  56.189999  55.419998  56.040001  55.480000  27334100.0  49.740337\n",
       "\n",
       "[504 rows x 6 columns]"
      ]
     },
     "execution_count": 17,
     "metadata": {},
     "output_type": "execute_result"
    }
   ],
   "source": [
    "stocks.loc[\"2014-1-1\":\"2016-1-1\"] # bu aralıktaki verileri getircek \n",
    "stocks.truncate(before=\"2014-1-1\", after=\"2016-1-1\") # aynı işi yapıyor(verdiğimiz tarih dahil değil)\n",
    "#truncate seçtiğimiz tarihlerden sonraki ve önceki tarihleri siler"
   ]
  },
  {
   "cell_type": "code",
   "execution_count": 18,
   "metadata": {
    "collapsed": true
   },
   "outputs": [
    {
     "data": {
      "text/plain": [
       "DatetimeIndex(['2000-03-16', '2001-03-16', '2002-03-16', '2003-03-16',\n",
       "               '2004-03-16', '2005-03-16', '2006-03-16', '2007-03-16',\n",
       "               '2008-03-16', '2009-03-16', '2010-03-16', '2011-03-16',\n",
       "               '2012-03-16', '2013-03-16', '2014-03-16', '2015-03-16',\n",
       "               '2016-03-16', '2017-03-16', '2018-03-16', '2019-03-16',\n",
       "               '2020-03-16', '2021-03-16', '2022-03-16'],\n",
       "              dtype='datetime64[ns]', freq='<DateOffset: years=1>')"
      ]
     },
     "execution_count": 18,
     "metadata": {},
     "output_type": "execute_result"
    }
   ],
   "source": [
    "pd.date_range(start=\"2000-3-16\", end=\"2022-11-26\", freq=pd.DateOffset(years=1))\n",
    "#istediğimiz tarihte yıl yıl ilerlememizi sağlıyor \n"
   ]
  },
  {
   "cell_type": "code",
   "execution_count": 19,
   "metadata": {
    "collapsed": true
   },
   "outputs": [
    {
     "data": {
      "text/html": [
       "<div>\n",
       "<style scoped>\n",
       "    .dataframe tbody tr th:only-of-type {\n",
       "        vertical-align: middle;\n",
       "    }\n",
       "\n",
       "    .dataframe tbody tr th {\n",
       "        vertical-align: top;\n",
       "    }\n",
       "\n",
       "    .dataframe thead th {\n",
       "        text-align: right;\n",
       "    }\n",
       "</style>\n",
       "<table border=\"1\" class=\"dataframe\">\n",
       "  <thead>\n",
       "    <tr style=\"text-align: right;\">\n",
       "      <th></th>\n",
       "      <th>Day_Of_Date</th>\n",
       "      <th>High</th>\n",
       "      <th>Low</th>\n",
       "      <th>Open</th>\n",
       "      <th>Close</th>\n",
       "      <th>Volume</th>\n",
       "      <th>Adj Close</th>\n",
       "    </tr>\n",
       "    <tr>\n",
       "      <th>Date</th>\n",
       "      <th></th>\n",
       "      <th></th>\n",
       "      <th></th>\n",
       "      <th></th>\n",
       "      <th></th>\n",
       "      <th></th>\n",
       "      <th></th>\n",
       "    </tr>\n",
       "  </thead>\n",
       "  <tbody>\n",
       "    <tr>\n",
       "      <th>2012-01-03</th>\n",
       "      <td>Tuesday</td>\n",
       "      <td>26.959999</td>\n",
       "      <td>26.389999</td>\n",
       "      <td>26.549999</td>\n",
       "      <td>26.770000</td>\n",
       "      <td>64731500.0</td>\n",
       "      <td>21.466703</td>\n",
       "    </tr>\n",
       "    <tr>\n",
       "      <th>2012-01-04</th>\n",
       "      <td>Wednesday</td>\n",
       "      <td>27.469999</td>\n",
       "      <td>26.780001</td>\n",
       "      <td>26.820000</td>\n",
       "      <td>27.400000</td>\n",
       "      <td>80516100.0</td>\n",
       "      <td>21.971891</td>\n",
       "    </tr>\n",
       "    <tr>\n",
       "      <th>2012-01-05</th>\n",
       "      <td>Thursday</td>\n",
       "      <td>27.730000</td>\n",
       "      <td>27.290001</td>\n",
       "      <td>27.379999</td>\n",
       "      <td>27.680000</td>\n",
       "      <td>56081400.0</td>\n",
       "      <td>22.196419</td>\n",
       "    </tr>\n",
       "    <tr>\n",
       "      <th>2012-01-06</th>\n",
       "      <td>Friday</td>\n",
       "      <td>28.190001</td>\n",
       "      <td>27.530001</td>\n",
       "      <td>27.530001</td>\n",
       "      <td>28.110001</td>\n",
       "      <td>99455500.0</td>\n",
       "      <td>22.541235</td>\n",
       "    </tr>\n",
       "    <tr>\n",
       "      <th>2012-01-09</th>\n",
       "      <td>Monday</td>\n",
       "      <td>28.100000</td>\n",
       "      <td>27.719999</td>\n",
       "      <td>28.049999</td>\n",
       "      <td>27.740000</td>\n",
       "      <td>59706800.0</td>\n",
       "      <td>22.244537</td>\n",
       "    </tr>\n",
       "    <tr>\n",
       "      <th>...</th>\n",
       "      <td>...</td>\n",
       "      <td>...</td>\n",
       "      <td>...</td>\n",
       "      <td>...</td>\n",
       "      <td>...</td>\n",
       "      <td>...</td>\n",
       "      <td>...</td>\n",
       "    </tr>\n",
       "    <tr>\n",
       "      <th>2022-10-25</th>\n",
       "      <td>Tuesday</td>\n",
       "      <td>251.039993</td>\n",
       "      <td>245.830002</td>\n",
       "      <td>247.259995</td>\n",
       "      <td>250.660004</td>\n",
       "      <td>34775500.0</td>\n",
       "      <td>249.955582</td>\n",
       "    </tr>\n",
       "    <tr>\n",
       "      <th>2022-10-26</th>\n",
       "      <td>Wednesday</td>\n",
       "      <td>238.300003</td>\n",
       "      <td>230.059998</td>\n",
       "      <td>231.169998</td>\n",
       "      <td>231.320007</td>\n",
       "      <td>82543200.0</td>\n",
       "      <td>230.669937</td>\n",
       "    </tr>\n",
       "    <tr>\n",
       "      <th>2022-10-27</th>\n",
       "      <td>Thursday</td>\n",
       "      <td>233.690002</td>\n",
       "      <td>225.779999</td>\n",
       "      <td>231.039993</td>\n",
       "      <td>226.750000</td>\n",
       "      <td>40424600.0</td>\n",
       "      <td>226.112778</td>\n",
       "    </tr>\n",
       "    <tr>\n",
       "      <th>2022-10-28</th>\n",
       "      <td>Friday</td>\n",
       "      <td>236.600006</td>\n",
       "      <td>226.050003</td>\n",
       "      <td>226.240005</td>\n",
       "      <td>235.869995</td>\n",
       "      <td>40647700.0</td>\n",
       "      <td>235.207138</td>\n",
       "    </tr>\n",
       "    <tr>\n",
       "      <th>2022-10-31</th>\n",
       "      <td>Monday</td>\n",
       "      <td>234.919998</td>\n",
       "      <td>231.149994</td>\n",
       "      <td>233.759995</td>\n",
       "      <td>232.130005</td>\n",
       "      <td>28357300.0</td>\n",
       "      <td>231.477661</td>\n",
       "    </tr>\n",
       "  </tbody>\n",
       "</table>\n",
       "<p>2726 rows × 7 columns</p>\n",
       "</div>"
      ],
      "text/plain": [
       "           Day_Of_Date        High         Low        Open       Close  \\\n",
       "Date                                                                     \n",
       "2012-01-03     Tuesday   26.959999   26.389999   26.549999   26.770000   \n",
       "2012-01-04   Wednesday   27.469999   26.780001   26.820000   27.400000   \n",
       "2012-01-05    Thursday   27.730000   27.290001   27.379999   27.680000   \n",
       "2012-01-06      Friday   28.190001   27.530001   27.530001   28.110001   \n",
       "2012-01-09      Monday   28.100000   27.719999   28.049999   27.740000   \n",
       "...                ...         ...         ...         ...         ...   \n",
       "2022-10-25     Tuesday  251.039993  245.830002  247.259995  250.660004   \n",
       "2022-10-26   Wednesday  238.300003  230.059998  231.169998  231.320007   \n",
       "2022-10-27    Thursday  233.690002  225.779999  231.039993  226.750000   \n",
       "2022-10-28      Friday  236.600006  226.050003  226.240005  235.869995   \n",
       "2022-10-31      Monday  234.919998  231.149994  233.759995  232.130005   \n",
       "\n",
       "                Volume   Adj Close  \n",
       "Date                                \n",
       "2012-01-03  64731500.0   21.466703  \n",
       "2012-01-04  80516100.0   21.971891  \n",
       "2012-01-05  56081400.0   22.196419  \n",
       "2012-01-06  99455500.0   22.541235  \n",
       "2012-01-09  59706800.0   22.244537  \n",
       "...                ...         ...  \n",
       "2022-10-25  34775500.0  249.955582  \n",
       "2022-10-26  82543200.0  230.669937  \n",
       "2022-10-27  40424600.0  226.112778  \n",
       "2022-10-28  40647700.0  235.207138  \n",
       "2022-10-31  28357300.0  231.477661  \n",
       "\n",
       "[2726 rows x 7 columns]"
      ]
     },
     "execution_count": 19,
     "metadata": {},
     "output_type": "execute_result"
    }
   ],
   "source": [
    "stocks.insert(0, \"Day_Of_Date\", stocks.index.day_name())\n",
    "stocks"
   ]
  },
  {
   "cell_type": "code",
   "execution_count": 41,
   "metadata": {
    "collapsed": true
   },
   "outputs": [
    {
     "data": {
      "text/plain": [
       "DatetimeIndex(['2013-03-13 06:03:00', '2013-03-14 06:03:00',\n",
       "               '2013-03-15 06:03:00', '2013-03-16 06:03:00',\n",
       "               '2013-03-19 06:03:00', '2013-03-20 06:03:00',\n",
       "               '2013-03-21 06:03:00', '2013-03-22 06:03:00',\n",
       "               '2013-03-23 06:03:00', '2013-03-27 06:03:00',\n",
       "               ...\n",
       "               '2023-12-28 06:03:00', '2023-12-29 06:03:00',\n",
       "               '2023-12-30 06:03:00', '2023-12-31 06:03:00',\n",
       "               '2024-01-03 06:03:00', '2024-01-04 06:03:00',\n",
       "               '2024-01-05 06:03:00', '2024-01-06 06:03:00',\n",
       "               '2024-01-07 06:03:00', '2024-01-10 06:03:00'],\n",
       "              dtype='datetime64[ns]', name='Date', length=2726, freq=None)"
      ]
     },
     "execution_count": 41,
     "metadata": {},
     "output_type": "execute_result"
    }
   ],
   "source": [
    "stocks.index + pd.DateOffset(days=5) # var olan bütün günlere 5 gün ekledik\n",
    "stocks.index + pd.DateOffset(years=1, months=2, days=10, hours=6, minutes=3)\n",
    "#istediğimiz zamanları ekleyebiliriz"
   ]
  },
  {
   "cell_type": "code",
   "execution_count": 22,
   "metadata": {},
   "outputs": [
    {
     "data": {
      "text/plain": [
       "Timedelta('8290 days 02:40:33')"
      ]
     },
     "execution_count": 22,
     "metadata": {},
     "output_type": "execute_result"
    }
   ],
   "source": [
    "first_time = pd.Timestamp(\"2000-03-16 03:35:16PM\")\n",
    "second_time = pd.Timestamp(\"2022-11-26 06:15:49PM\")\n",
    "second_time - first_time  #time delta olarak veriliyor\n",
    "#iki tarih arasındaki fark"
   ]
  },
  {
   "cell_type": "code",
   "execution_count": 43,
   "metadata": {},
   "outputs": [
    {
     "data": {
      "text/plain": [
       "Timedelta('10 days 03:05:55')"
      ]
     },
     "execution_count": 43,
     "metadata": {},
     "output_type": "execute_result"
    }
   ],
   "source": [
    "first_time = pd.Timestamp(\"2020-03-31\")\n",
    "first_time + pd.Timedelta(weeks=8, days=3, hours=12, minutes=45, seconds=30)\n",
    "pd.Timedelta(\"10 days 3 hours 5 minutes 55 seconds\")  "
   ]
  },
  {
   "cell_type": "code",
   "execution_count": 23,
   "metadata": {},
   "outputs": [],
   "source": [
    "import matplotlib.pyplot as plt\n",
    "%matplotlib inline"
   ]
  },
  {
   "cell_type": "code",
   "execution_count": 45,
   "metadata": {},
   "outputs": [
    {
     "data": {
      "text/plain": [
       "<matplotlib.axes._subplots.AxesSubplot at 0x7f6162d47d00>"
      ]
     },
     "execution_count": 45,
     "metadata": {},
     "output_type": "execute_result"
    },
    {
     "data": {
      "image/png": "[encoded data removed]",
      "text/plain": [
       "<Figure size 432x288 with 1 Axes>"
      ]
     },
     "metadata": {
      "needs_background": "light"
     },
     "output_type": "display_data"
    }
   ],
   "source": [
    "stocks.plot() # bütün alanları içerebilmek için en yüksek değerli alanı alıyor "
   ]
  },
  {
   "cell_type": "code",
   "execution_count": 46,
   "metadata": {},
   "outputs": [
    {
     "data": {
      "text/html": [
       "<div>\n",
       "<style scoped>\n",
       "    .dataframe tbody tr th:only-of-type {\n",
       "        vertical-align: middle;\n",
       "    }\n",
       "\n",
       "    .dataframe tbody tr th {\n",
       "        vertical-align: top;\n",
       "    }\n",
       "\n",
       "    .dataframe thead th {\n",
       "        text-align: right;\n",
       "    }\n",
       "</style>\n",
       "<table border=\"1\" class=\"dataframe\">\n",
       "  <thead>\n",
       "    <tr style=\"text-align: right;\">\n",
       "      <th></th>\n",
       "      <th>Day_Of_Day</th>\n",
       "      <th>High</th>\n",
       "      <th>Low</th>\n",
       "      <th>Open</th>\n",
       "      <th>Close</th>\n",
       "      <th>Volume</th>\n",
       "      <th>Adj Close</th>\n",
       "    </tr>\n",
       "    <tr>\n",
       "      <th>Date</th>\n",
       "      <th></th>\n",
       "      <th></th>\n",
       "      <th></th>\n",
       "      <th></th>\n",
       "      <th></th>\n",
       "      <th></th>\n",
       "      <th></th>\n",
       "    </tr>\n",
       "  </thead>\n",
       "  <tbody>\n",
       "    <tr>\n",
       "      <th>2012-01-03</th>\n",
       "      <td>Tuesday</td>\n",
       "      <td>26.959999</td>\n",
       "      <td>26.389999</td>\n",
       "      <td>26.549999</td>\n",
       "      <td>26.770000</td>\n",
       "      <td>64731500.0</td>\n",
       "      <td>21.466703</td>\n",
       "    </tr>\n",
       "    <tr>\n",
       "      <th>2012-01-04</th>\n",
       "      <td>Wednesday</td>\n",
       "      <td>27.469999</td>\n",
       "      <td>26.780001</td>\n",
       "      <td>26.820000</td>\n",
       "      <td>27.400000</td>\n",
       "      <td>80516100.0</td>\n",
       "      <td>21.971889</td>\n",
       "    </tr>\n",
       "    <tr>\n",
       "      <th>2012-01-05</th>\n",
       "      <td>Thursday</td>\n",
       "      <td>27.730000</td>\n",
       "      <td>27.290001</td>\n",
       "      <td>27.379999</td>\n",
       "      <td>27.680000</td>\n",
       "      <td>56081400.0</td>\n",
       "      <td>22.196421</td>\n",
       "    </tr>\n",
       "    <tr>\n",
       "      <th>2012-01-06</th>\n",
       "      <td>Friday</td>\n",
       "      <td>28.190001</td>\n",
       "      <td>27.530001</td>\n",
       "      <td>27.530001</td>\n",
       "      <td>28.110001</td>\n",
       "      <td>99455500.0</td>\n",
       "      <td>22.541239</td>\n",
       "    </tr>\n",
       "    <tr>\n",
       "      <th>2012-01-09</th>\n",
       "      <td>Monday</td>\n",
       "      <td>28.100000</td>\n",
       "      <td>27.719999</td>\n",
       "      <td>28.049999</td>\n",
       "      <td>27.740000</td>\n",
       "      <td>59706800.0</td>\n",
       "      <td>22.244539</td>\n",
       "    </tr>\n",
       "    <tr>\n",
       "      <th>...</th>\n",
       "      <td>...</td>\n",
       "      <td>...</td>\n",
       "      <td>...</td>\n",
       "      <td>...</td>\n",
       "      <td>...</td>\n",
       "      <td>...</td>\n",
       "      <td>...</td>\n",
       "    </tr>\n",
       "    <tr>\n",
       "      <th>2022-10-25</th>\n",
       "      <td>Tuesday</td>\n",
       "      <td>251.039993</td>\n",
       "      <td>245.830002</td>\n",
       "      <td>247.259995</td>\n",
       "      <td>250.660004</td>\n",
       "      <td>34775500.0</td>\n",
       "      <td>249.955582</td>\n",
       "    </tr>\n",
       "    <tr>\n",
       "      <th>2022-10-26</th>\n",
       "      <td>Wednesday</td>\n",
       "      <td>238.300003</td>\n",
       "      <td>230.059998</td>\n",
       "      <td>231.169998</td>\n",
       "      <td>231.320007</td>\n",
       "      <td>82543200.0</td>\n",
       "      <td>230.669937</td>\n",
       "    </tr>\n",
       "    <tr>\n",
       "      <th>2022-10-27</th>\n",
       "      <td>Thursday</td>\n",
       "      <td>233.690002</td>\n",
       "      <td>225.779999</td>\n",
       "      <td>231.039993</td>\n",
       "      <td>226.750000</td>\n",
       "      <td>40424600.0</td>\n",
       "      <td>226.112778</td>\n",
       "    </tr>\n",
       "    <tr>\n",
       "      <th>2022-10-28</th>\n",
       "      <td>Friday</td>\n",
       "      <td>236.600006</td>\n",
       "      <td>226.050003</td>\n",
       "      <td>226.240005</td>\n",
       "      <td>235.869995</td>\n",
       "      <td>40647700.0</td>\n",
       "      <td>235.207138</td>\n",
       "    </tr>\n",
       "    <tr>\n",
       "      <th>2022-10-31</th>\n",
       "      <td>Monday</td>\n",
       "      <td>234.919998</td>\n",
       "      <td>231.149994</td>\n",
       "      <td>233.759995</td>\n",
       "      <td>232.130005</td>\n",
       "      <td>28357300.0</td>\n",
       "      <td>231.477661</td>\n",
       "    </tr>\n",
       "  </tbody>\n",
       "</table>\n",
       "<p>2726 rows × 7 columns</p>\n",
       "</div>"
      ],
      "text/plain": [
       "           Day_Of_Day        High         Low        Open       Close  \\\n",
       "Date                                                                    \n",
       "2012-01-03    Tuesday   26.959999   26.389999   26.549999   26.770000   \n",
       "2012-01-04  Wednesday   27.469999   26.780001   26.820000   27.400000   \n",
       "2012-01-05   Thursday   27.730000   27.290001   27.379999   27.680000   \n",
       "2012-01-06     Friday   28.190001   27.530001   27.530001   28.110001   \n",
       "2012-01-09     Monday   28.100000   27.719999   28.049999   27.740000   \n",
       "...               ...         ...         ...         ...         ...   \n",
       "2022-10-25    Tuesday  251.039993  245.830002  247.259995  250.660004   \n",
       "2022-10-26  Wednesday  238.300003  230.059998  231.169998  231.320007   \n",
       "2022-10-27   Thursday  233.690002  225.779999  231.039993  226.750000   \n",
       "2022-10-28     Friday  236.600006  226.050003  226.240005  235.869995   \n",
       "2022-10-31     Monday  234.919998  231.149994  233.759995  232.130005   \n",
       "\n",
       "                Volume   Adj Close  \n",
       "Date                                \n",
       "2012-01-03  64731500.0   21.466703  \n",
       "2012-01-04  80516100.0   21.971889  \n",
       "2012-01-05  56081400.0   22.196421  \n",
       "2012-01-06  99455500.0   22.541239  \n",
       "2012-01-09  59706800.0   22.244539  \n",
       "...                ...         ...  \n",
       "2022-10-25  34775500.0  249.955582  \n",
       "2022-10-26  82543200.0  230.669937  \n",
       "2022-10-27  40424600.0  226.112778  \n",
       "2022-10-28  40647700.0  235.207138  \n",
       "2022-10-31  28357300.0  231.477661  \n",
       "\n",
       "[2726 rows x 7 columns]"
      ]
     },
     "execution_count": 46,
     "metadata": {},
     "output_type": "execute_result"
    }
   ],
   "source": [
    "stocks"
   ]
  },
  {
   "cell_type": "code",
   "execution_count": 50,
   "metadata": {
    "collapsed": true
   },
   "outputs": [
    {
     "data": {
      "text/plain": [
       "<matplotlib.axes._subplots.AxesSubplot at 0x7f6161601b50>"
      ]
     },
     "execution_count": 50,
     "metadata": {},
     "output_type": "execute_result"
    },
    {
     "data": {
      "image/png": "[encoded data removed]",
      "text/plain": [
       "<Figure size 432x288 with 1 Axes>"
      ]
     },
     "metadata": {
      "needs_background": "light"
     },
     "output_type": "display_data"
    },
    {
     "data": {
      "image/png": "[encoded data removed]",
      "text/plain": [
       "<Figure size 432x288 with 1 Axes>"
      ]
     },
     "metadata": {
      "needs_background": "light"
     },
     "output_type": "display_data"
    }
   ],
   "source": [
    "stocks.plot(y=\"Close\")\n",
    "stocks.plot(y=[\"High\", \"Close\"])\n",
    "#Legend : her bir rengin hangi parametreyi ifade ettiğini gösterir"
   ]
  },
  {
   "cell_type": "code",
   "execution_count": 52,
   "metadata": {},
   "outputs": [
    {
     "data": {
      "text/plain": [
       "['Solarize_Light2',\n",
       " '_classic_test_patch',\n",
       " 'bmh',\n",
       " 'classic',\n",
       " 'dark_background',\n",
       " 'fast',\n",
       " 'fivethirtyeight',\n",
       " 'ggplot',\n",
       " 'grayscale',\n",
       " 'seaborn',\n",
       " 'seaborn-bright',\n",
       " 'seaborn-colorblind',\n",
       " 'seaborn-dark',\n",
       " 'seaborn-dark-palette',\n",
       " 'seaborn-darkgrid',\n",
       " 'seaborn-deep',\n",
       " 'seaborn-muted',\n",
       " 'seaborn-notebook',\n",
       " 'seaborn-paper',\n",
       " 'seaborn-pastel',\n",
       " 'seaborn-poster',\n",
       " 'seaborn-talk',\n",
       " 'seaborn-ticks',\n",
       " 'seaborn-white',\n",
       " 'seaborn-whitegrid',\n",
       " 'tableau-colorblind10']"
      ]
     },
     "execution_count": 52,
     "metadata": {},
     "output_type": "execute_result"
    }
   ],
   "source": [
    "plt.style.available # var olan hazır stylelar, istediğimiz her hangi bir style'i grafiklerimizde kullanabiliriz"
   ]
  },
  {
   "cell_type": "code",
   "execution_count": 30,
   "metadata": {},
   "outputs": [
    {
     "data": {
      "text/plain": [
       "<matplotlib.axes._subplots.AxesSubplot at 0x7ffa11f27c40>"
      ]
     },
     "execution_count": 30,
     "metadata": {},
     "output_type": "execute_result"
    },
    {
     "data": {
      "image/png": "[encoded data removed]",
      "text/plain": [
       "<Figure size 432x288 with 1 Axes>"
      ]
     },
     "metadata": {},
     "output_type": "display_data"
    }
   ],
   "source": [
    "plt.style.use(\"fivethirtyeight\")\n",
    "plt.style.use(\"ggplot\")\n",
    "plt.style.use('dark_background')\n",
    "stocks.plot(y=\"Close\")"
   ]
  },
  {
   "cell_type": "code",
   "execution_count": 56,
   "metadata": {},
   "outputs": [],
   "source": [
    "def rank_performance(stock_price):\n",
    "    if stock_price <= 10:\n",
    "        return \"Poor\"\n",
    "    elif stock_price <= 50:\n",
    "        return \"Satisfactory\"\n",
    "    else:\n",
    "        return \"Stellar\""
   ]
  },
  {
   "cell_type": "code",
   "execution_count": 59,
   "metadata": {
    "collapsed": true
   },
   "outputs": [
    {
     "data": {
      "text/plain": [
       "<matplotlib.axes._subplots.AxesSubplot at 0x7f615f248ac0>"
      ]
     },
     "execution_count": 59,
     "metadata": {},
     "output_type": "execute_result"
    },
    {
     "data": {
      "image/png": "[encoded data removed]",
      "text/plain": [
       "<Figure size 432x288 with 1 Axes>"
      ]
     },
     "metadata": {},
     "output_type": "display_data"
    }
   ],
   "source": [
    "stocks[\"Close\"].apply(rank_performance).value_counts().plot()"
   ]
  },
  {
   "cell_type": "code",
   "execution_count": 62,
   "metadata": {
    "collapsed": true
   },
   "outputs": [
    {
     "data": {
      "text/plain": [
       "<matplotlib.axes._subplots.AxesSubplot at 0x7f615ebfc220>"
      ]
     },
     "execution_count": 62,
     "metadata": {},
     "output_type": "execute_result"
    },
    {
     "data": {
      "image/png": "[encoded data removed]",
      "text/plain": [
       "<Figure size 432x288 with 1 Axes>"
      ]
     },
     "metadata": {},
     "output_type": "display_data"
    }
   ],
   "source": [
    "stocks[\"Close\"].apply(rank_performance).value_counts().plot(kind=\"bar\")"
   ]
  },
  {
   "cell_type": "code",
   "execution_count": 63,
   "metadata": {
    "collapsed": true
   },
   "outputs": [
    {
     "data": {
      "text/plain": [
       "<matplotlib.axes._subplots.AxesSubplot at 0x7f615ec13dc0>"
      ]
     },
     "execution_count": 63,
     "metadata": {},
     "output_type": "execute_result"
    },
    {
     "data": {
      "image/png": "[encoded data removed]",
      "text/plain": [
       "<Figure size 432x288 with 1 Axes>"
      ]
     },
     "metadata": {},
     "output_type": "display_data"
    }
   ],
   "source": [
    "stocks[\"Close\"].apply(rank_performance).value_counts().plot(kind=\"barh\") # yataya çevirir "
   ]
  },
  {
   "cell_type": "code",
   "execution_count": 65,
   "metadata": {
    "collapsed": true
   },
   "outputs": [
    {
     "data": {
      "text/plain": [
       "<matplotlib.axes._subplots.AxesSubplot at 0x7f615e2ea970>"
      ]
     },
     "execution_count": 65,
     "metadata": {},
     "output_type": "execute_result"
    },
    {
     "data": {
      "image/png": "[encoded data removed]",
      "text/plain": [
       "<Figure size 432x288 with 1 Axes>"
      ]
     },
     "metadata": {},
     "output_type": "display_data"
    }
   ],
   "source": [
    "stocks[\"Close\"].apply(rank_performance).value_counts().plot(kind=\"pie\", legend=True)"
   ]
  },
  {
   "cell_type": "code",
   "execution_count": null,
   "metadata": {},
   "outputs": [],
   "source": []
  }
 ],
 "metadata": {
  "kernelspec": {
   "display_name": "Python 3 (ipykernel)",
   "language": "python",
   "name": "python3"
  },
  "language_info": {
   "codemirror_mode": {
    "name": "ipython",
    "version": 3
   },
   "file_extension": ".py",
   "mimetype": "text/x-python",
   "name": "python",
   "nbconvert_exporter": "python",
   "pygments_lexer": "ipython3",
   "version": "3.8.15"
  }
 },
 "nbformat": 4,
 "nbformat_minor": 4
}
