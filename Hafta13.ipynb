{
 "cells": [
  {
   "cell_type": "code",
   "execution_count": 1,
   "id": "dc8ff5d1",
   "metadata": {},
   "outputs": [],
   "source": [
    "import pandas as pd\n",
    "import numpy as np"
   ]
  },
  {
   "cell_type": "code",
   "execution_count": 2,
   "id": "e1fbfb93",
   "metadata": {},
   "outputs": [],
   "source": [
    "customer = pd.read_csv(\"Desktop/resources/customer_data.csv\")\n",
    "payment = pd.read_csv(\"Desktop/resources/payment_data.csv\")"
   ]
  },
  {
   "cell_type": "code",
   "execution_count": 3,
   "id": "6d82767c",
   "metadata": {},
   "outputs": [
    {
     "data": {
      "text/html": [
       "<div>\n",
       "<style scoped>\n",
       "    .dataframe tbody tr th:only-of-type {\n",
       "        vertical-align: middle;\n",
       "    }\n",
       "\n",
       "    .dataframe tbody tr th {\n",
       "        vertical-align: top;\n",
       "    }\n",
       "\n",
       "    .dataframe thead th {\n",
       "        text-align: right;\n",
       "    }\n",
       "</style>\n",
       "<table border=\"1\" class=\"dataframe\">\n",
       "  <thead>\n",
       "    <tr style=\"text-align: right;\">\n",
       "      <th></th>\n",
       "      <th>label</th>\n",
       "      <th>id</th>\n",
       "      <th>fea_1</th>\n",
       "      <th>fea_2</th>\n",
       "      <th>fea_3</th>\n",
       "      <th>fea_4</th>\n",
       "      <th>fea_5</th>\n",
       "      <th>fea_6</th>\n",
       "      <th>fea_7</th>\n",
       "      <th>fea_8</th>\n",
       "      <th>fea_9</th>\n",
       "      <th>fea_10</th>\n",
       "      <th>fea_11</th>\n",
       "    </tr>\n",
       "  </thead>\n",
       "  <tbody>\n",
       "    <tr>\n",
       "      <th>0</th>\n",
       "      <td>1</td>\n",
       "      <td>54982665</td>\n",
       "      <td>5</td>\n",
       "      <td>1245.5</td>\n",
       "      <td>3</td>\n",
       "      <td>77000.0</td>\n",
       "      <td>2</td>\n",
       "      <td>15</td>\n",
       "      <td>5</td>\n",
       "      <td>109</td>\n",
       "      <td>5</td>\n",
       "      <td>151300</td>\n",
       "      <td>244.948974</td>\n",
       "    </tr>\n",
       "    <tr>\n",
       "      <th>1</th>\n",
       "      <td>0</td>\n",
       "      <td>59004779</td>\n",
       "      <td>4</td>\n",
       "      <td>1277.0</td>\n",
       "      <td>1</td>\n",
       "      <td>113000.0</td>\n",
       "      <td>2</td>\n",
       "      <td>8</td>\n",
       "      <td>-1</td>\n",
       "      <td>100</td>\n",
       "      <td>3</td>\n",
       "      <td>341759</td>\n",
       "      <td>207.173840</td>\n",
       "    </tr>\n",
       "    <tr>\n",
       "      <th>2</th>\n",
       "      <td>0</td>\n",
       "      <td>58990862</td>\n",
       "      <td>7</td>\n",
       "      <td>1298.0</td>\n",
       "      <td>1</td>\n",
       "      <td>110000.0</td>\n",
       "      <td>2</td>\n",
       "      <td>11</td>\n",
       "      <td>-1</td>\n",
       "      <td>101</td>\n",
       "      <td>5</td>\n",
       "      <td>72001</td>\n",
       "      <td>1.000000</td>\n",
       "    </tr>\n",
       "    <tr>\n",
       "      <th>3</th>\n",
       "      <td>1</td>\n",
       "      <td>58995168</td>\n",
       "      <td>7</td>\n",
       "      <td>1335.5</td>\n",
       "      <td>1</td>\n",
       "      <td>151000.0</td>\n",
       "      <td>2</td>\n",
       "      <td>11</td>\n",
       "      <td>5</td>\n",
       "      <td>110</td>\n",
       "      <td>3</td>\n",
       "      <td>60084</td>\n",
       "      <td>1.000000</td>\n",
       "    </tr>\n",
       "    <tr>\n",
       "      <th>4</th>\n",
       "      <td>0</td>\n",
       "      <td>54987320</td>\n",
       "      <td>7</td>\n",
       "      <td>NaN</td>\n",
       "      <td>2</td>\n",
       "      <td>59000.0</td>\n",
       "      <td>2</td>\n",
       "      <td>11</td>\n",
       "      <td>5</td>\n",
       "      <td>108</td>\n",
       "      <td>4</td>\n",
       "      <td>450081</td>\n",
       "      <td>197.403141</td>\n",
       "    </tr>\n",
       "  </tbody>\n",
       "</table>\n",
       "</div>"
      ],
      "text/plain": [
       "   label        id  fea_1   fea_2  fea_3     fea_4  fea_5  fea_6  fea_7  \\\n",
       "0      1  54982665      5  1245.5      3   77000.0      2     15      5   \n",
       "1      0  59004779      4  1277.0      1  113000.0      2      8     -1   \n",
       "2      0  58990862      7  1298.0      1  110000.0      2     11     -1   \n",
       "3      1  58995168      7  1335.5      1  151000.0      2     11      5   \n",
       "4      0  54987320      7     NaN      2   59000.0      2     11      5   \n",
       "\n",
       "   fea_8  fea_9  fea_10      fea_11  \n",
       "0    109      5  151300  244.948974  \n",
       "1    100      3  341759  207.173840  \n",
       "2    101      5   72001    1.000000  \n",
       "3    110      3   60084    1.000000  \n",
       "4    108      4  450081  197.403141  "
      ]
     },
     "execution_count": 3,
     "metadata": {},
     "output_type": "execute_result"
    }
   ],
   "source": [
    "customer.head()"
   ]
  },
  {
   "cell_type": "code",
   "execution_count": 4,
   "id": "f9f74bd1",
   "metadata": {},
   "outputs": [
    {
     "data": {
      "text/html": [
       "<div>\n",
       "<style scoped>\n",
       "    .dataframe tbody tr th:only-of-type {\n",
       "        vertical-align: middle;\n",
       "    }\n",
       "\n",
       "    .dataframe tbody tr th {\n",
       "        vertical-align: top;\n",
       "    }\n",
       "\n",
       "    .dataframe thead th {\n",
       "        text-align: right;\n",
       "    }\n",
       "</style>\n",
       "<table border=\"1\" class=\"dataframe\">\n",
       "  <thead>\n",
       "    <tr style=\"text-align: right;\">\n",
       "      <th></th>\n",
       "      <th>id</th>\n",
       "      <th>OVD_t1</th>\n",
       "      <th>OVD_t2</th>\n",
       "      <th>OVD_t3</th>\n",
       "      <th>OVD_sum</th>\n",
       "      <th>pay_normal</th>\n",
       "      <th>prod_code</th>\n",
       "      <th>prod_limit</th>\n",
       "      <th>update_date</th>\n",
       "      <th>new_balance</th>\n",
       "      <th>highest_balance</th>\n",
       "      <th>report_date</th>\n",
       "    </tr>\n",
       "  </thead>\n",
       "  <tbody>\n",
       "    <tr>\n",
       "      <th>0</th>\n",
       "      <td>58987402</td>\n",
       "      <td>0</td>\n",
       "      <td>0</td>\n",
       "      <td>0</td>\n",
       "      <td>0</td>\n",
       "      <td>1</td>\n",
       "      <td>10</td>\n",
       "      <td>16500.0</td>\n",
       "      <td>04/12/2016</td>\n",
       "      <td>0.0</td>\n",
       "      <td>NaN</td>\n",
       "      <td>NaN</td>\n",
       "    </tr>\n",
       "    <tr>\n",
       "      <th>1</th>\n",
       "      <td>58995151</td>\n",
       "      <td>0</td>\n",
       "      <td>0</td>\n",
       "      <td>0</td>\n",
       "      <td>0</td>\n",
       "      <td>1</td>\n",
       "      <td>5</td>\n",
       "      <td>NaN</td>\n",
       "      <td>04/12/2016</td>\n",
       "      <td>588720.0</td>\n",
       "      <td>491100.0</td>\n",
       "      <td>NaN</td>\n",
       "    </tr>\n",
       "    <tr>\n",
       "      <th>2</th>\n",
       "      <td>58997200</td>\n",
       "      <td>0</td>\n",
       "      <td>0</td>\n",
       "      <td>0</td>\n",
       "      <td>0</td>\n",
       "      <td>2</td>\n",
       "      <td>5</td>\n",
       "      <td>NaN</td>\n",
       "      <td>04/12/2016</td>\n",
       "      <td>840000.0</td>\n",
       "      <td>700500.0</td>\n",
       "      <td>22/04/2016</td>\n",
       "    </tr>\n",
       "    <tr>\n",
       "      <th>3</th>\n",
       "      <td>54988608</td>\n",
       "      <td>0</td>\n",
       "      <td>0</td>\n",
       "      <td>0</td>\n",
       "      <td>0</td>\n",
       "      <td>3</td>\n",
       "      <td>10</td>\n",
       "      <td>37400.0</td>\n",
       "      <td>03/12/2016</td>\n",
       "      <td>8425.2</td>\n",
       "      <td>7520.0</td>\n",
       "      <td>25/04/2016</td>\n",
       "    </tr>\n",
       "    <tr>\n",
       "      <th>4</th>\n",
       "      <td>54987763</td>\n",
       "      <td>0</td>\n",
       "      <td>0</td>\n",
       "      <td>0</td>\n",
       "      <td>0</td>\n",
       "      <td>2</td>\n",
       "      <td>10</td>\n",
       "      <td>NaN</td>\n",
       "      <td>03/12/2016</td>\n",
       "      <td>15147.6</td>\n",
       "      <td>NaN</td>\n",
       "      <td>26/04/2016</td>\n",
       "    </tr>\n",
       "  </tbody>\n",
       "</table>\n",
       "</div>"
      ],
      "text/plain": [
       "         id  OVD_t1  OVD_t2  OVD_t3  OVD_sum  pay_normal  prod_code  \\\n",
       "0  58987402       0       0       0        0           1         10   \n",
       "1  58995151       0       0       0        0           1          5   \n",
       "2  58997200       0       0       0        0           2          5   \n",
       "3  54988608       0       0       0        0           3         10   \n",
       "4  54987763       0       0       0        0           2         10   \n",
       "\n",
       "   prod_limit update_date  new_balance  highest_balance report_date  \n",
       "0     16500.0  04/12/2016          0.0              NaN         NaN  \n",
       "1         NaN  04/12/2016     588720.0         491100.0         NaN  \n",
       "2         NaN  04/12/2016     840000.0         700500.0  22/04/2016  \n",
       "3     37400.0  03/12/2016       8425.2           7520.0  25/04/2016  \n",
       "4         NaN  03/12/2016      15147.6              NaN  26/04/2016  "
      ]
     },
     "execution_count": 4,
     "metadata": {},
     "output_type": "execute_result"
    }
   ],
   "source": [
    "payment.head()"
   ]
  },
  {
   "cell_type": "code",
   "execution_count": 5,
   "id": "2b1f9d19",
   "metadata": {},
   "outputs": [
    {
     "name": "stdout",
     "output_type": "stream",
     "text": [
      "<class 'pandas.core.frame.DataFrame'>\n",
      "RangeIndex: 1125 entries, 0 to 1124\n",
      "Data columns (total 13 columns):\n",
      " #   Column  Non-Null Count  Dtype  \n",
      "---  ------  --------------  -----  \n",
      " 0   label   1125 non-null   int64  \n",
      " 1   id      1125 non-null   int64  \n",
      " 2   fea_1   1125 non-null   int64  \n",
      " 3   fea_2   976 non-null    float64\n",
      " 4   fea_3   1125 non-null   int64  \n",
      " 5   fea_4   1125 non-null   float64\n",
      " 6   fea_5   1125 non-null   int64  \n",
      " 7   fea_6   1125 non-null   int64  \n",
      " 8   fea_7   1125 non-null   int64  \n",
      " 9   fea_8   1125 non-null   int64  \n",
      " 10  fea_9   1125 non-null   int64  \n",
      " 11  fea_10  1125 non-null   int64  \n",
      " 12  fea_11  1125 non-null   float64\n",
      "dtypes: float64(3), int64(10)\n",
      "memory usage: 114.4 KB\n"
     ]
    }
   ],
   "source": [
    "customer.info()"
   ]
  },
  {
   "cell_type": "code",
   "execution_count": 6,
   "id": "dc01242b",
   "metadata": {
    "scrolled": true
   },
   "outputs": [
    {
     "data": {
      "text/plain": [
       "label       0\n",
       "id          0\n",
       "fea_1       0\n",
       "fea_2     149\n",
       "fea_3       0\n",
       "fea_4       0\n",
       "fea_5       0\n",
       "fea_6       0\n",
       "fea_7       0\n",
       "fea_8       0\n",
       "fea_9       0\n",
       "fea_10      0\n",
       "fea_11      0\n",
       "dtype: int64"
      ]
     },
     "execution_count": 6,
     "metadata": {},
     "output_type": "execute_result"
    }
   ],
   "source": [
    "customer.isna().sum()"
   ]
  },
  {
   "cell_type": "code",
   "execution_count": 7,
   "id": "b993be4e",
   "metadata": {
    "scrolled": true
   },
   "outputs": [
    {
     "data": {
      "text/html": [
       "<div>\n",
       "<style scoped>\n",
       "    .dataframe tbody tr th:only-of-type {\n",
       "        vertical-align: middle;\n",
       "    }\n",
       "\n",
       "    .dataframe tbody tr th {\n",
       "        vertical-align: top;\n",
       "    }\n",
       "\n",
       "    .dataframe thead th {\n",
       "        text-align: right;\n",
       "    }\n",
       "</style>\n",
       "<table border=\"1\" class=\"dataframe\">\n",
       "  <thead>\n",
       "    <tr style=\"text-align: right;\">\n",
       "      <th></th>\n",
       "      <th>count</th>\n",
       "      <th>mean</th>\n",
       "      <th>std</th>\n",
       "      <th>min</th>\n",
       "      <th>25%</th>\n",
       "      <th>50%</th>\n",
       "      <th>75%</th>\n",
       "      <th>max</th>\n",
       "    </tr>\n",
       "  </thead>\n",
       "  <tbody>\n",
       "    <tr>\n",
       "      <th>label</th>\n",
       "      <td>1125.0</td>\n",
       "      <td>2.000000e-01</td>\n",
       "      <td>4.001779e-01</td>\n",
       "      <td>0.0</td>\n",
       "      <td>0.0</td>\n",
       "      <td>0.000000e+00</td>\n",
       "      <td>0.000000e+00</td>\n",
       "      <td>1.000000e+00</td>\n",
       "    </tr>\n",
       "    <tr>\n",
       "      <th>id</th>\n",
       "      <td>1125.0</td>\n",
       "      <td>5.783677e+07</td>\n",
       "      <td>1.817150e+06</td>\n",
       "      <td>54982353.0</td>\n",
       "      <td>54990497.0</td>\n",
       "      <td>5.898975e+07</td>\n",
       "      <td>5.899799e+07</td>\n",
       "      <td>5.900624e+07</td>\n",
       "    </tr>\n",
       "    <tr>\n",
       "      <th>fea_1</th>\n",
       "      <td>1125.0</td>\n",
       "      <td>5.482667e+00</td>\n",
       "      <td>1.383338e+00</td>\n",
       "      <td>1.0</td>\n",
       "      <td>4.0</td>\n",
       "      <td>5.000000e+00</td>\n",
       "      <td>7.000000e+00</td>\n",
       "      <td>7.000000e+00</td>\n",
       "    </tr>\n",
       "    <tr>\n",
       "      <th>fea_2</th>\n",
       "      <td>976.0</td>\n",
       "      <td>1.283911e+03</td>\n",
       "      <td>5.176402e+01</td>\n",
       "      <td>1116.5</td>\n",
       "      <td>1244.0</td>\n",
       "      <td>1.281500e+03</td>\n",
       "      <td>1.314500e+03</td>\n",
       "      <td>1.481000e+03</td>\n",
       "    </tr>\n",
       "    <tr>\n",
       "      <th>fea_3</th>\n",
       "      <td>1125.0</td>\n",
       "      <td>2.333333e+00</td>\n",
       "      <td>8.787730e-01</td>\n",
       "      <td>1.0</td>\n",
       "      <td>1.0</td>\n",
       "      <td>3.000000e+00</td>\n",
       "      <td>3.000000e+00</td>\n",
       "      <td>3.000000e+00</td>\n",
       "    </tr>\n",
       "    <tr>\n",
       "      <th>fea_4</th>\n",
       "      <td>1125.0</td>\n",
       "      <td>1.208836e+05</td>\n",
       "      <td>8.844523e+04</td>\n",
       "      <td>15000.0</td>\n",
       "      <td>72000.0</td>\n",
       "      <td>1.020000e+05</td>\n",
       "      <td>1.390000e+05</td>\n",
       "      <td>1.200000e+06</td>\n",
       "    </tr>\n",
       "    <tr>\n",
       "      <th>fea_5</th>\n",
       "      <td>1125.0</td>\n",
       "      <td>1.928889e+00</td>\n",
       "      <td>2.571247e-01</td>\n",
       "      <td>1.0</td>\n",
       "      <td>2.0</td>\n",
       "      <td>2.000000e+00</td>\n",
       "      <td>2.000000e+00</td>\n",
       "      <td>2.000000e+00</td>\n",
       "    </tr>\n",
       "    <tr>\n",
       "      <th>fea_6</th>\n",
       "      <td>1125.0</td>\n",
       "      <td>1.087200e+01</td>\n",
       "      <td>2.676437e+00</td>\n",
       "      <td>3.0</td>\n",
       "      <td>8.0</td>\n",
       "      <td>1.100000e+01</td>\n",
       "      <td>1.100000e+01</td>\n",
       "      <td>1.600000e+01</td>\n",
       "    </tr>\n",
       "    <tr>\n",
       "      <th>fea_7</th>\n",
       "      <td>1125.0</td>\n",
       "      <td>4.832889e+00</td>\n",
       "      <td>2.971182e+00</td>\n",
       "      <td>-1.0</td>\n",
       "      <td>5.0</td>\n",
       "      <td>5.000000e+00</td>\n",
       "      <td>5.000000e+00</td>\n",
       "      <td>1.000000e+01</td>\n",
       "    </tr>\n",
       "    <tr>\n",
       "      <th>fea_8</th>\n",
       "      <td>1125.0</td>\n",
       "      <td>1.008027e+02</td>\n",
       "      <td>1.198896e+01</td>\n",
       "      <td>64.0</td>\n",
       "      <td>90.0</td>\n",
       "      <td>1.050000e+02</td>\n",
       "      <td>1.110000e+02</td>\n",
       "      <td>1.150000e+02</td>\n",
       "    </tr>\n",
       "    <tr>\n",
       "      <th>fea_9</th>\n",
       "      <td>1125.0</td>\n",
       "      <td>4.195556e+00</td>\n",
       "      <td>8.556790e-01</td>\n",
       "      <td>1.0</td>\n",
       "      <td>3.0</td>\n",
       "      <td>4.000000e+00</td>\n",
       "      <td>5.000000e+00</td>\n",
       "      <td>5.000000e+00</td>\n",
       "    </tr>\n",
       "    <tr>\n",
       "      <th>fea_10</th>\n",
       "      <td>1125.0</td>\n",
       "      <td>1.646185e+05</td>\n",
       "      <td>1.525205e+05</td>\n",
       "      <td>60000.0</td>\n",
       "      <td>60044.0</td>\n",
       "      <td>7.200000e+04</td>\n",
       "      <td>1.513070e+05</td>\n",
       "      <td>6.500700e+05</td>\n",
       "    </tr>\n",
       "    <tr>\n",
       "      <th>fea_11</th>\n",
       "      <td>1125.0</td>\n",
       "      <td>1.349990e+02</td>\n",
       "      <td>1.126168e+02</td>\n",
       "      <td>1.0</td>\n",
       "      <td>1.0</td>\n",
       "      <td>1.732051e+02</td>\n",
       "      <td>2.024846e+02</td>\n",
       "      <td>7.071068e+02</td>\n",
       "    </tr>\n",
       "  </tbody>\n",
       "</table>\n",
       "</div>"
      ],
      "text/plain": [
       "         count          mean           std         min         25%  \\\n",
       "label   1125.0  2.000000e-01  4.001779e-01         0.0         0.0   \n",
       "id      1125.0  5.783677e+07  1.817150e+06  54982353.0  54990497.0   \n",
       "fea_1   1125.0  5.482667e+00  1.383338e+00         1.0         4.0   \n",
       "fea_2    976.0  1.283911e+03  5.176402e+01      1116.5      1244.0   \n",
       "fea_3   1125.0  2.333333e+00  8.787730e-01         1.0         1.0   \n",
       "fea_4   1125.0  1.208836e+05  8.844523e+04     15000.0     72000.0   \n",
       "fea_5   1125.0  1.928889e+00  2.571247e-01         1.0         2.0   \n",
       "fea_6   1125.0  1.087200e+01  2.676437e+00         3.0         8.0   \n",
       "fea_7   1125.0  4.832889e+00  2.971182e+00        -1.0         5.0   \n",
       "fea_8   1125.0  1.008027e+02  1.198896e+01        64.0        90.0   \n",
       "fea_9   1125.0  4.195556e+00  8.556790e-01         1.0         3.0   \n",
       "fea_10  1125.0  1.646185e+05  1.525205e+05     60000.0     60044.0   \n",
       "fea_11  1125.0  1.349990e+02  1.126168e+02         1.0         1.0   \n",
       "\n",
       "                 50%           75%           max  \n",
       "label   0.000000e+00  0.000000e+00  1.000000e+00  \n",
       "id      5.898975e+07  5.899799e+07  5.900624e+07  \n",
       "fea_1   5.000000e+00  7.000000e+00  7.000000e+00  \n",
       "fea_2   1.281500e+03  1.314500e+03  1.481000e+03  \n",
       "fea_3   3.000000e+00  3.000000e+00  3.000000e+00  \n",
       "fea_4   1.020000e+05  1.390000e+05  1.200000e+06  \n",
       "fea_5   2.000000e+00  2.000000e+00  2.000000e+00  \n",
       "fea_6   1.100000e+01  1.100000e+01  1.600000e+01  \n",
       "fea_7   5.000000e+00  5.000000e+00  1.000000e+01  \n",
       "fea_8   1.050000e+02  1.110000e+02  1.150000e+02  \n",
       "fea_9   4.000000e+00  5.000000e+00  5.000000e+00  \n",
       "fea_10  7.200000e+04  1.513070e+05  6.500700e+05  \n",
       "fea_11  1.732051e+02  2.024846e+02  7.071068e+02  "
      ]
     },
     "execution_count": 7,
     "metadata": {},
     "output_type": "execute_result"
    }
   ],
   "source": [
    "customer.describe().T"
   ]
  },
  {
   "cell_type": "code",
   "execution_count": 8,
   "id": "43bdf3b0",
   "metadata": {},
   "outputs": [
    {
     "data": {
      "text/plain": [
       "(1283.9113729508197, 1281.5)"
      ]
     },
     "execution_count": 8,
     "metadata": {},
     "output_type": "execute_result"
    }
   ],
   "source": [
    "customer[\"fea_2\"].mean(), customer[\"fea_2\"].median()"
   ]
  },
  {
   "cell_type": "code",
   "execution_count": 9,
   "id": "6e763473",
   "metadata": {},
   "outputs": [],
   "source": [
    "import seaborn as sns\n",
    "import matplotlib.pyplot as plt"
   ]
  },
  {
   "cell_type": "code",
   "execution_count": 10,
   "id": "e87a2bb7",
   "metadata": {},
   "outputs": [
    {
     "data": {
      "text/plain": [
       "(Int64Index([0, 1], dtype='int64'), array([900, 225]))"
      ]
     },
     "execution_count": 10,
     "metadata": {},
     "output_type": "execute_result"
    }
   ],
   "source": [
    "customer[\"label\"].value_counts().index , customer[\"label\"].value_counts().values #def test_get_all_by_host_with_pool(self):"
   ]
  },
  {
   "cell_type": "code",
   "execution_count": 40,
   "id": "23ff44bc",
   "metadata": {},
   "outputs": [
    {
     "data": {
      "text/plain": [
       "<AxesSubplot:title={'center':'Risk Dağılımı'}, xlabel='Risk Düzeyi', ylabel='Toplam Sayı'>"
      ]
     },
     "execution_count": 40,
     "metadata": {},
     "output_type": "execute_result"
    },
    {
     "data": {
      "image/png": "[encoded data removed]",
      "text/plain": [
       "<Figure size 640x480 with 1 Axes>"
      ]
     },
     "metadata": {},
     "output_type": "display_data"
    }
   ],
   "source": [
    "df_graph = pd.DataFrame({\n",
    "    \"Risk Düzeyi\": customer[\"label\"].value_counts().index, #Soldan sağa \n",
    "    \"Toplam Sayı\":customer[\"label\"].value_counts().values # alttan yukarıya \n",
    "})\n",
    "plt.title(\"Risk Dağılımı\") # \n",
    "sns.barplot(data=df_graph, x=\"Risk Düzeyi\", y=\"Toplam Sayı\")"
   ]
  },
  {
   "cell_type": "code",
   "execution_count": 47,
   "id": "b840409d",
   "metadata": {},
   "outputs": [
    {
     "data": {
      "text/plain": [
       "<AxesSubplot:title={'center':'Ana'}, xlabel='Risk Düzeyi', ylabel='count'>"
      ]
     },
     "execution_count": 47,
     "metadata": {},
     "output_type": "execute_result"
    },
    {
     "data": {
      "image/png": "[encoded data removed]",
      "text/plain": [
       "<Figure size 600x400 with 1 Axes>"
      ]
     },
     "metadata": {},
     "output_type": "display_data"
    }
   ],
   "source": [
    "df_graph = pd.DataFrame({\n",
    "    \"Risk Düzeyi\" : customer[\"label\"]\n",
    "})\n",
    "plt.figure(figsize=(6, 4))\n",
    "plt.title(\"Ana\")\n",
    "sns.countplot(x = \"Risk Düzeyi\", data = df_graph )"
   ]
  },
  {
   "cell_type": "code",
   "execution_count": 38,
   "id": "966dee82",
   "metadata": {},
   "outputs": [
    {
     "data": {
      "text/plain": [
       "<AxesSubplot:xlabel='label', ylabel='count'>"
      ]
     },
     "execution_count": 38,
     "metadata": {},
     "output_type": "execute_result"
    },
    {
     "data": {
      "image/png": "[encoded data removed]",
      "text/plain": [
       "<Figure size 500x200 with 1 Axes>"
      ]
     },
     "metadata": {},
     "output_type": "display_data"
    }
   ],
   "source": [
    "plt.figure(figsize=(5, 2))\n",
    "sns.countplot(x= customer[\"label\"], data = customer )"
   ]
  },
  {
   "cell_type": "code",
   "execution_count": 11,
   "id": "958947ed",
   "metadata": {},
   "outputs": [
    {
     "data": {
      "text/plain": [
       "label     0\n",
       "id        0\n",
       "fea_1     0\n",
       "fea_2     0\n",
       "fea_3     0\n",
       "fea_4     0\n",
       "fea_5     0\n",
       "fea_6     0\n",
       "fea_7     0\n",
       "fea_8     0\n",
       "fea_9     0\n",
       "fea_10    0\n",
       "fea_11    0\n",
       "dtype: int64"
      ]
     },
     "execution_count": 11,
     "metadata": {},
     "output_type": "execute_result"
    }
   ],
   "source": [
    "customer[\"fea_2\"].fillna(customer[\"fea_2\"].mean(), inplace=True) # boş olan alanları doldurduk \n",
    "customer.isna().sum()  "
   ]
  },
  {
   "cell_type": "code",
   "execution_count": 12,
   "id": "123da0e1",
   "metadata": {},
   "outputs": [
    {
     "data": {
      "text/html": [
       "<div>\n",
       "<style scoped>\n",
       "    .dataframe tbody tr th:only-of-type {\n",
       "        vertical-align: middle;\n",
       "    }\n",
       "\n",
       "    .dataframe tbody tr th {\n",
       "        vertical-align: top;\n",
       "    }\n",
       "\n",
       "    .dataframe thead th {\n",
       "        text-align: right;\n",
       "    }\n",
       "</style>\n",
       "<table border=\"1\" class=\"dataframe\">\n",
       "  <thead>\n",
       "    <tr style=\"text-align: right;\">\n",
       "      <th></th>\n",
       "      <th>fea_1</th>\n",
       "      <th>fea_2</th>\n",
       "      <th>fea_3</th>\n",
       "      <th>fea_4</th>\n",
       "      <th>fea_5</th>\n",
       "      <th>fea_6</th>\n",
       "      <th>fea_7</th>\n",
       "      <th>fea_8</th>\n",
       "      <th>fea_9</th>\n",
       "      <th>fea_10</th>\n",
       "      <th>fea_11</th>\n",
       "    </tr>\n",
       "  </thead>\n",
       "  <tbody>\n",
       "    <tr>\n",
       "      <th>0</th>\n",
       "      <td>5</td>\n",
       "      <td>1245.500000</td>\n",
       "      <td>3</td>\n",
       "      <td>77000.0</td>\n",
       "      <td>2</td>\n",
       "      <td>15</td>\n",
       "      <td>5</td>\n",
       "      <td>109</td>\n",
       "      <td>5</td>\n",
       "      <td>151300</td>\n",
       "      <td>244.948974</td>\n",
       "    </tr>\n",
       "    <tr>\n",
       "      <th>1</th>\n",
       "      <td>4</td>\n",
       "      <td>1277.000000</td>\n",
       "      <td>1</td>\n",
       "      <td>113000.0</td>\n",
       "      <td>2</td>\n",
       "      <td>8</td>\n",
       "      <td>-1</td>\n",
       "      <td>100</td>\n",
       "      <td>3</td>\n",
       "      <td>341759</td>\n",
       "      <td>207.173840</td>\n",
       "    </tr>\n",
       "    <tr>\n",
       "      <th>2</th>\n",
       "      <td>7</td>\n",
       "      <td>1298.000000</td>\n",
       "      <td>1</td>\n",
       "      <td>110000.0</td>\n",
       "      <td>2</td>\n",
       "      <td>11</td>\n",
       "      <td>-1</td>\n",
       "      <td>101</td>\n",
       "      <td>5</td>\n",
       "      <td>72001</td>\n",
       "      <td>1.000000</td>\n",
       "    </tr>\n",
       "    <tr>\n",
       "      <th>3</th>\n",
       "      <td>7</td>\n",
       "      <td>1335.500000</td>\n",
       "      <td>1</td>\n",
       "      <td>151000.0</td>\n",
       "      <td>2</td>\n",
       "      <td>11</td>\n",
       "      <td>5</td>\n",
       "      <td>110</td>\n",
       "      <td>3</td>\n",
       "      <td>60084</td>\n",
       "      <td>1.000000</td>\n",
       "    </tr>\n",
       "    <tr>\n",
       "      <th>4</th>\n",
       "      <td>7</td>\n",
       "      <td>1283.911373</td>\n",
       "      <td>2</td>\n",
       "      <td>59000.0</td>\n",
       "      <td>2</td>\n",
       "      <td>11</td>\n",
       "      <td>5</td>\n",
       "      <td>108</td>\n",
       "      <td>4</td>\n",
       "      <td>450081</td>\n",
       "      <td>197.403141</td>\n",
       "    </tr>\n",
       "    <tr>\n",
       "      <th>...</th>\n",
       "      <td>...</td>\n",
       "      <td>...</td>\n",
       "      <td>...</td>\n",
       "      <td>...</td>\n",
       "      <td>...</td>\n",
       "      <td>...</td>\n",
       "      <td>...</td>\n",
       "      <td>...</td>\n",
       "      <td>...</td>\n",
       "      <td>...</td>\n",
       "      <td>...</td>\n",
       "    </tr>\n",
       "    <tr>\n",
       "      <th>1120</th>\n",
       "      <td>5</td>\n",
       "      <td>1289.000000</td>\n",
       "      <td>1</td>\n",
       "      <td>173000.0</td>\n",
       "      <td>2</td>\n",
       "      <td>15</td>\n",
       "      <td>5</td>\n",
       "      <td>112</td>\n",
       "      <td>3</td>\n",
       "      <td>350702</td>\n",
       "      <td>200.000000</td>\n",
       "    </tr>\n",
       "    <tr>\n",
       "      <th>1121</th>\n",
       "      <td>5</td>\n",
       "      <td>1283.911373</td>\n",
       "      <td>2</td>\n",
       "      <td>50000.0</td>\n",
       "      <td>2</td>\n",
       "      <td>15</td>\n",
       "      <td>5</td>\n",
       "      <td>108</td>\n",
       "      <td>4</td>\n",
       "      <td>450000</td>\n",
       "      <td>169.000000</td>\n",
       "    </tr>\n",
       "    <tr>\n",
       "      <th>1122</th>\n",
       "      <td>7</td>\n",
       "      <td>1220.000000</td>\n",
       "      <td>3</td>\n",
       "      <td>76000.0</td>\n",
       "      <td>2</td>\n",
       "      <td>11</td>\n",
       "      <td>2</td>\n",
       "      <td>90</td>\n",
       "      <td>5</td>\n",
       "      <td>71002</td>\n",
       "      <td>1.000000</td>\n",
       "    </tr>\n",
       "    <tr>\n",
       "      <th>1123</th>\n",
       "      <td>4</td>\n",
       "      <td>1250.000000</td>\n",
       "      <td>3</td>\n",
       "      <td>137000.0</td>\n",
       "      <td>2</td>\n",
       "      <td>8</td>\n",
       "      <td>5</td>\n",
       "      <td>90</td>\n",
       "      <td>5</td>\n",
       "      <td>72000</td>\n",
       "      <td>1.000000</td>\n",
       "    </tr>\n",
       "    <tr>\n",
       "      <th>1124</th>\n",
       "      <td>4</td>\n",
       "      <td>1415.000000</td>\n",
       "      <td>3</td>\n",
       "      <td>93000.0</td>\n",
       "      <td>2</td>\n",
       "      <td>8</td>\n",
       "      <td>5</td>\n",
       "      <td>113</td>\n",
       "      <td>4</td>\n",
       "      <td>151300</td>\n",
       "      <td>273.861279</td>\n",
       "    </tr>\n",
       "  </tbody>\n",
       "</table>\n",
       "<p>1125 rows × 11 columns</p>\n",
       "</div>"
      ],
      "text/plain": [
       "      fea_1        fea_2  fea_3     fea_4  fea_5  fea_6  fea_7  fea_8  fea_9  \\\n",
       "0         5  1245.500000      3   77000.0      2     15      5    109      5   \n",
       "1         4  1277.000000      1  113000.0      2      8     -1    100      3   \n",
       "2         7  1298.000000      1  110000.0      2     11     -1    101      5   \n",
       "3         7  1335.500000      1  151000.0      2     11      5    110      3   \n",
       "4         7  1283.911373      2   59000.0      2     11      5    108      4   \n",
       "...     ...          ...    ...       ...    ...    ...    ...    ...    ...   \n",
       "1120      5  1289.000000      1  173000.0      2     15      5    112      3   \n",
       "1121      5  1283.911373      2   50000.0      2     15      5    108      4   \n",
       "1122      7  1220.000000      3   76000.0      2     11      2     90      5   \n",
       "1123      4  1250.000000      3  137000.0      2      8      5     90      5   \n",
       "1124      4  1415.000000      3   93000.0      2      8      5    113      4   \n",
       "\n",
       "      fea_10      fea_11  \n",
       "0     151300  244.948974  \n",
       "1     341759  207.173840  \n",
       "2      72001    1.000000  \n",
       "3      60084    1.000000  \n",
       "4     450081  197.403141  \n",
       "...      ...         ...  \n",
       "1120  350702  200.000000  \n",
       "1121  450000  169.000000  \n",
       "1122   71002    1.000000  \n",
       "1123   72000    1.000000  \n",
       "1124  151300  273.861279  \n",
       "\n",
       "[1125 rows x 11 columns]"
      ]
     },
     "execution_count": 12,
     "metadata": {},
     "output_type": "execute_result"
    }
   ],
   "source": [
    "#girişi ve çıkışı belirlemem gerek\n",
    "y = customer[\"label\"] # y = output\n",
    "X = customer.drop([\"label\", \"id\"], axis=1) #axis vermek zorundayız , X = input\n",
    "X"
   ]
  },
  {
   "cell_type": "code",
   "execution_count": 13,
   "id": "5079a483",
   "metadata": {},
   "outputs": [],
   "source": [
    "from collections import Counter"
   ]
  },
  {
   "cell_type": "code",
   "execution_count": 14,
   "id": "f1807ee0",
   "metadata": {},
   "outputs": [
    {
     "data": {
      "text/plain": [
       "Counter({1: 225, 0: 900})"
      ]
     },
     "execution_count": 14,
     "metadata": {},
     "output_type": "execute_result"
    }
   ],
   "source": [
    "Counter(y) # counter fonsiyonunla kaç tane bir kaç tane sıfır var diye gösterir(Tuple döndürür)\n",
    "# ya fazlaları düşürürüz (mantıksız), az olanı yükseltiriz(yeniden örnekleme-> birleri fazlalaştırıcaz)\n",
    "#düzgün bir sınıflandırma yapıcaksak eksik olan değeri yükseltmemiz lazım"
   ]
  },
  {
   "cell_type": "code",
   "execution_count": 15,
   "id": "d7509049",
   "metadata": {},
   "outputs": [],
   "source": [
    " from imblearn.over_sampling import RandomOverSampler # istediğimiz eksik olan random olarak örnek üretecek "
   ]
  },
  {
   "cell_type": "code",
   "execution_count": 16,
   "id": "f93a0de4",
   "metadata": {},
   "outputs": [],
   "source": [
    "sampler = RandomOverSampler() # nesne oluşturduk , eksik değerleri tamamlıyoruz\n",
    "X_new, y_new = sampler.fit_resample(X, y)"
   ]
  },
  {
   "cell_type": "code",
   "execution_count": 17,
   "id": "baddce75",
   "metadata": {},
   "outputs": [
    {
     "data": {
      "text/plain": [
       "Counter({1: 900, 0: 900})"
      ]
     },
     "execution_count": 17,
     "metadata": {},
     "output_type": "execute_result"
    }
   ],
   "source": [
    "Counter(y_new) # eksik olan değerleri fazla olan değerlere kadar yükselttik"
   ]
  },
  {
   "cell_type": "code",
   "execution_count": 18,
   "id": "5557af31",
   "metadata": {},
   "outputs": [
    {
     "data": {
      "text/plain": [
       "(1800, 11)"
      ]
     },
     "execution_count": 18,
     "metadata": {},
     "output_type": "execute_result"
    }
   ],
   "source": [
    "X_new.shape # 1800 satır, 11 sütun "
   ]
  },
  {
   "cell_type": "code",
   "execution_count": 19,
   "id": "18b3bd5e",
   "metadata": {},
   "outputs": [],
   "source": [
    "from sklearn.model_selection import train_test_split "
   ]
  },
  {
   "cell_type": "code",
   "execution_count": 20,
   "id": "ace04a14",
   "metadata": {},
   "outputs": [],
   "source": [
    "X_train, X_test, y_train, y_test = train_test_split(X_new, y_new, # modelin performansını ölçüceksek dördünü kullanırız\n",
    "                                                   test_size=0.2,\n",
    "                                                   random_state=42)"
   ]
  },
  {
   "cell_type": "code",
   "execution_count": 21,
   "id": "5adb101a",
   "metadata": {},
   "outputs": [],
   "source": [
    "from sklearn.tree import DecisionTreeClassifier # klasifikasyon, regresyon\n",
    "from sklearn import tree\n",
    "from sklearn.metrics import accuracy_score, confusion_matrix\n",
    "# from sklearn.tree import DecisionTreeRegressor # regresyon için bunu kullanırız"
   ]
  },
  {
   "cell_type": "code",
   "execution_count": 22,
   "id": "008c1663",
   "metadata": {},
   "outputs": [
    {
     "data": {
      "text/plain": [
       "DecisionTreeClassifier()"
      ]
     },
     "execution_count": 22,
     "metadata": {},
     "output_type": "execute_result"
    }
   ],
   "source": [
    "model = DecisionTreeClassifier()\n",
    "model.fit(X_train, y_train)\n"
   ]
  },
  {
   "cell_type": "code",
   "execution_count": 23,
   "id": "a548064c",
   "metadata": {},
   "outputs": [
    {
     "name": "stdout",
     "output_type": "stream",
     "text": [
      "Train set accuracy score = 1.0\n",
      "Test set accuracy score = 0.8333333333333334\n"
     ]
    }
   ],
   "source": [
    "print(f\"Train set accuracy score = {accuracy_score(y_train, model.predict(X_train))}\")\n",
    "print(f\"Test set accuracy score = {accuracy_score(y_test, model.predict(X_test))}\")"
   ]
  },
  {
   "cell_type": "code",
   "execution_count": 24,
   "id": "e0b50d74",
   "metadata": {
    "scrolled": true
   },
   "outputs": [
    {
     "data": {
      "text/plain": [
       "[Text(0.44861641221374043, 0.9736842105263158, 'X[3] <= 79500.0\\ngini = 0.5\\nsamples = 1440\\nvalue = [724, 716]'),\n",
       " Text(0.16297709923664122, 0.9210526315789473, 'X[3] <= 61500.0\\ngini = 0.451\\nsamples = 565\\nvalue = [194, 371]'),\n",
       " Text(0.11068702290076336, 0.868421052631579, 'X[10] <= 224.418\\ngini = 0.398\\nsamples = 328\\nvalue = [90, 238]'),\n",
       " Text(0.09541984732824428, 0.8157894736842105, 'X[9] <= 60002.0\\ngini = 0.375\\nsamples = 300\\nvalue = [75, 225]'),\n",
       " Text(0.08931297709923663, 0.7631578947368421, 'gini = 0.0\\nsamples = 3\\nvalue = [3, 0]'),\n",
       " Text(0.10152671755725191, 0.7631578947368421, 'X[10] <= 207.127\\ngini = 0.367\\nsamples = 297\\nvalue = [72, 225]'),\n",
       " Text(0.08931297709923663, 0.7105263157894737, 'X[10] <= 200.12\\ngini = 0.389\\nsamples = 268\\nvalue = [71, 197]'),\n",
       " Text(0.083206106870229, 0.6578947368421053, 'X[5] <= 15.5\\ngini = 0.382\\nsamples = 265\\nvalue = [68, 197]'),\n",
       " Text(0.07709923664122137, 0.6052631578947368, 'X[9] <= 60093.0\\ngini = 0.376\\nsamples = 263\\nvalue = [66, 197]'),\n",
       " Text(0.03358778625954199, 0.5526315789473685, 'X[7] <= 114.5\\ngini = 0.452\\nsamples = 87\\nvalue = [30, 57]'),\n",
       " Text(0.02748091603053435, 0.5, 'X[7] <= 89.5\\ngini = 0.478\\nsamples = 76\\nvalue = [30, 46]'),\n",
       " Text(0.012213740458015267, 0.4473684210526316, 'X[9] <= 60008.5\\ngini = 0.353\\nsamples = 35\\nvalue = [8, 27]'),\n",
       " Text(0.0061068702290076335, 0.39473684210526316, 'gini = 0.0\\nsamples = 3\\nvalue = [3, 0]'),\n",
       " Text(0.0183206106870229, 0.39473684210526316, 'X[3] <= 55500.0\\ngini = 0.264\\nsamples = 32\\nvalue = [5, 27]'),\n",
       " Text(0.012213740458015267, 0.34210526315789475, 'gini = 0.0\\nsamples = 23\\nvalue = [0, 23]'),\n",
       " Text(0.024427480916030534, 0.34210526315789475, 'X[9] <= 60021.0\\ngini = 0.494\\nsamples = 9\\nvalue = [5, 4]'),\n",
       " Text(0.0183206106870229, 0.2894736842105263, 'gini = 0.0\\nsamples = 4\\nvalue = [0, 4]'),\n",
       " Text(0.030534351145038167, 0.2894736842105263, 'gini = 0.0\\nsamples = 5\\nvalue = [5, 0]'),\n",
       " Text(0.042748091603053436, 0.4473684210526316, 'X[9] <= 60013.5\\ngini = 0.497\\nsamples = 41\\nvalue = [22, 19]'),\n",
       " Text(0.0366412213740458, 0.39473684210526316, 'gini = 0.0\\nsamples = 7\\nvalue = [0, 7]'),\n",
       " Text(0.04885496183206107, 0.39473684210526316, 'X[3] <= 32500.0\\ngini = 0.457\\nsamples = 34\\nvalue = [22, 12]'),\n",
       " Text(0.042748091603053436, 0.34210526315789475, 'gini = 0.0\\nsamples = 3\\nvalue = [0, 3]'),\n",
       " Text(0.0549618320610687, 0.34210526315789475, 'X[1] <= 1216.25\\ngini = 0.412\\nsamples = 31\\nvalue = [22, 9]'),\n",
       " Text(0.042748091603053436, 0.2894736842105263, 'X[9] <= 60053.5\\ngini = 0.463\\nsamples = 11\\nvalue = [4, 7]'),\n",
       " Text(0.0366412213740458, 0.23684210526315788, 'X[10] <= 79.557\\ngini = 0.219\\nsamples = 8\\nvalue = [1, 7]'),\n",
       " Text(0.030534351145038167, 0.18421052631578946, 'gini = 0.0\\nsamples = 1\\nvalue = [1, 0]'),\n",
       " Text(0.042748091603053436, 0.18421052631578946, 'gini = 0.0\\nsamples = 7\\nvalue = [0, 7]'),\n",
       " Text(0.04885496183206107, 0.23684210526315788, 'gini = 0.0\\nsamples = 3\\nvalue = [3, 0]'),\n",
       " Text(0.06717557251908397, 0.2894736842105263, 'X[9] <= 60084.5\\ngini = 0.18\\nsamples = 20\\nvalue = [18, 2]'),\n",
       " Text(0.061068702290076333, 0.23684210526315788, 'gini = 0.0\\nsamples = 17\\nvalue = [17, 0]'),\n",
       " Text(0.0732824427480916, 0.23684210526315788, 'X[0] <= 6.5\\ngini = 0.444\\nsamples = 3\\nvalue = [1, 2]'),\n",
       " Text(0.06717557251908397, 0.18421052631578946, 'gini = 0.0\\nsamples = 1\\nvalue = [1, 0]'),\n",
       " Text(0.07938931297709924, 0.18421052631578946, 'gini = 0.0\\nsamples = 2\\nvalue = [0, 2]'),\n",
       " Text(0.03969465648854962, 0.5, 'gini = 0.0\\nsamples = 11\\nvalue = [0, 11]'),\n",
       " Text(0.12061068702290076, 0.5526315789473685, 'X[2] <= 1.5\\ngini = 0.325\\nsamples = 176\\nvalue = [36, 140]'),\n",
       " Text(0.1083969465648855, 0.5, 'X[7] <= 96.5\\ngini = 0.375\\nsamples = 8\\nvalue = [6, 2]'),\n",
       " Text(0.10229007633587786, 0.4473684210526316, 'gini = 0.0\\nsamples = 2\\nvalue = [0, 2]'),\n",
       " Text(0.11450381679389313, 0.4473684210526316, 'gini = 0.0\\nsamples = 6\\nvalue = [6, 0]'),\n",
       " Text(0.13282442748091602, 0.5, 'X[1] <= 1199.0\\ngini = 0.293\\nsamples = 168\\nvalue = [30, 138]'),\n",
       " Text(0.1267175572519084, 0.4473684210526316, 'gini = 0.0\\nsamples = 3\\nvalue = [3, 0]'),\n",
       " Text(0.13893129770992366, 0.4473684210526316, 'X[3] <= 50500.0\\ngini = 0.274\\nsamples = 165\\nvalue = [27, 138]'),\n",
       " Text(0.09770992366412214, 0.39473684210526316, 'X[6] <= 0.5\\ngini = 0.17\\nsamples = 96\\nvalue = [9, 87]'),\n",
       " Text(0.0916030534351145, 0.34210526315789475, 'gini = 0.0\\nsamples = 3\\nvalue = [3, 0]'),\n",
       " Text(0.10381679389312977, 0.34210526315789475, 'X[3] <= 22500.0\\ngini = 0.121\\nsamples = 93\\nvalue = [6, 87]'),\n",
       " Text(0.09770992366412214, 0.2894736842105263, 'gini = 0.0\\nsamples = 1\\nvalue = [1, 0]'),\n",
       " Text(0.1099236641221374, 0.2894736842105263, 'X[7] <= 109.5\\ngini = 0.103\\nsamples = 92\\nvalue = [5, 87]'),\n",
       " Text(0.09770992366412214, 0.23684210526315788, 'X[8] <= 4.5\\ngini = 0.034\\nsamples = 57\\nvalue = [1, 56]'),\n",
       " Text(0.0916030534351145, 0.18421052631578946, 'X[10] <= 171.573\\ngini = 0.111\\nsamples = 17\\nvalue = [1, 16]'),\n",
       " Text(0.08549618320610687, 0.13157894736842105, 'gini = 0.0\\nsamples = 16\\nvalue = [0, 16]'),\n",
       " Text(0.09770992366412214, 0.13157894736842105, 'gini = 0.0\\nsamples = 1\\nvalue = [1, 0]'),\n",
       " Text(0.10381679389312977, 0.18421052631578946, 'gini = 0.0\\nsamples = 40\\nvalue = [0, 40]'),\n",
       " Text(0.12213740458015267, 0.23684210526315788, 'X[3] <= 32500.0\\ngini = 0.202\\nsamples = 35\\nvalue = [4, 31]'),\n",
       " Text(0.11603053435114503, 0.18421052631578946, 'gini = 0.0\\nsamples = 1\\nvalue = [1, 0]'),\n",
       " Text(0.1282442748091603, 0.18421052631578946, 'X[9] <= 72007.0\\ngini = 0.161\\nsamples = 34\\nvalue = [3, 31]'),\n",
       " Text(0.12213740458015267, 0.13157894736842105, 'gini = 0.0\\nsamples = 20\\nvalue = [0, 20]'),\n",
       " Text(0.13435114503816795, 0.13157894736842105, 'X[2] <= 2.5\\ngini = 0.337\\nsamples = 14\\nvalue = [3, 11]'),\n",
       " Text(0.1282442748091603, 0.07894736842105263, 'X[3] <= 41000.0\\ngini = 0.153\\nsamples = 12\\nvalue = [1, 11]'),\n",
       " Text(0.12213740458015267, 0.02631578947368421, 'gini = 0.0\\nsamples = 1\\nvalue = [1, 0]'),\n",
       " Text(0.13435114503816795, 0.02631578947368421, 'gini = 0.0\\nsamples = 11\\nvalue = [0, 11]'),\n",
       " Text(0.14045801526717558, 0.07894736842105263, 'gini = 0.0\\nsamples = 2\\nvalue = [2, 0]'),\n",
       " Text(0.1801526717557252, 0.39473684210526316, 'X[3] <= 58500.0\\ngini = 0.386\\nsamples = 69\\nvalue = [18, 51]'),\n",
       " Text(0.15267175572519084, 0.34210526315789475, 'X[1] <= 1218.5\\ngini = 0.476\\nsamples = 41\\nvalue = [16, 25]'),\n",
       " Text(0.14045801526717558, 0.2894736842105263, 'X[9] <= 71503.0\\ngini = 0.208\\nsamples = 17\\nvalue = [2, 15]'),\n",
       " Text(0.13435114503816795, 0.23684210526315788, 'gini = 0.0\\nsamples = 1\\nvalue = [1, 0]'),\n",
       " Text(0.1465648854961832, 0.23684210526315788, 'X[9] <= 300690.0\\ngini = 0.117\\nsamples = 16\\nvalue = [1, 15]'),\n",
       " Text(0.14045801526717558, 0.18421052631578946, 'gini = 0.0\\nsamples = 15\\nvalue = [0, 15]'),\n",
       " Text(0.15267175572519084, 0.18421052631578946, 'gini = 0.0\\nsamples = 1\\nvalue = [1, 0]'),\n",
       " Text(0.1648854961832061, 0.2894736842105263, 'X[7] <= 87.0\\ngini = 0.486\\nsamples = 24\\nvalue = [14, 10]'),\n",
       " Text(0.15877862595419848, 0.23684210526315788, 'gini = 0.0\\nsamples = 5\\nvalue = [0, 5]'),\n",
       " Text(0.17099236641221374, 0.23684210526315788, 'X[0] <= 6.0\\ngini = 0.388\\nsamples = 19\\nvalue = [14, 5]'),\n",
       " Text(0.1648854961832061, 0.18421052631578946, 'gini = 0.0\\nsamples = 9\\nvalue = [9, 0]'),\n",
       " Text(0.17709923664122137, 0.18421052631578946, 'X[10] <= 168.112\\ngini = 0.5\\nsamples = 10\\nvalue = [5, 5]'),\n",
       " Text(0.17099236641221374, 0.13157894736842105, 'X[7] <= 101.0\\ngini = 0.278\\nsamples = 6\\nvalue = [1, 5]'),\n",
       " Text(0.1648854961832061, 0.07894736842105263, 'gini = 0.0\\nsamples = 1\\nvalue = [1, 0]'),\n",
       " Text(0.17709923664122137, 0.07894736842105263, 'gini = 0.0\\nsamples = 5\\nvalue = [0, 5]'),\n",
       " Text(0.183206106870229, 0.13157894736842105, 'gini = 0.0\\nsamples = 4\\nvalue = [4, 0]'),\n",
       " Text(0.20763358778625954, 0.34210526315789475, 'X[10] <= 192.243\\ngini = 0.133\\nsamples = 28\\nvalue = [2, 26]'),\n",
       " Text(0.2015267175572519, 0.2894736842105263, 'X[1] <= 1214.75\\ngini = 0.071\\nsamples = 27\\nvalue = [1, 26]'),\n",
       " Text(0.19541984732824427, 0.23684210526315788, 'X[6] <= 7.0\\ngini = 0.32\\nsamples = 5\\nvalue = [1, 4]'),\n",
       " Text(0.18931297709923664, 0.18421052631578946, 'gini = 0.0\\nsamples = 4\\nvalue = [0, 4]'),\n",
       " Text(0.2015267175572519, 0.18421052631578946, 'gini = 0.0\\nsamples = 1\\nvalue = [1, 0]'),\n",
       " Text(0.20763358778625954, 0.23684210526315788, 'gini = 0.0\\nsamples = 22\\nvalue = [0, 22]'),\n",
       " Text(0.21374045801526717, 0.2894736842105263, 'gini = 0.0\\nsamples = 1\\nvalue = [1, 0]'),\n",
       " Text(0.08931297709923663, 0.6052631578947368, 'gini = 0.0\\nsamples = 2\\nvalue = [2, 0]'),\n",
       " Text(0.09541984732824428, 0.6578947368421053, 'gini = 0.0\\nsamples = 3\\nvalue = [3, 0]'),\n",
       " Text(0.11374045801526718, 0.7105263157894737, 'X[1] <= 1311.206\\ngini = 0.067\\nsamples = 29\\nvalue = [1, 28]'),\n",
       " Text(0.10763358778625955, 0.6578947368421053, 'gini = 0.0\\nsamples = 24\\nvalue = [0, 24]'),\n",
       " Text(0.11984732824427481, 0.6578947368421053, 'X[5] <= 13.0\\ngini = 0.32\\nsamples = 5\\nvalue = [1, 4]'),\n",
       " Text(0.11374045801526718, 0.6052631578947368, 'gini = 0.0\\nsamples = 4\\nvalue = [0, 4]'),\n",
       " Text(0.12595419847328243, 0.6052631578947368, 'gini = 0.0\\nsamples = 1\\nvalue = [1, 0]'),\n",
       " Text(0.12595419847328243, 0.8157894736842105, 'X[1] <= 1297.25\\ngini = 0.497\\nsamples = 28\\nvalue = [15, 13]'),\n",
       " Text(0.11984732824427481, 0.7631578947368421, 'gini = 0.0\\nsamples = 13\\nvalue = [13, 0]'),\n",
       " Text(0.13206106870229006, 0.7631578947368421, 'X[3] <= 49000.0\\ngini = 0.231\\nsamples = 15\\nvalue = [2, 13]'),\n",
       " Text(0.12595419847328243, 0.7105263157894737, 'gini = 0.0\\nsamples = 13\\nvalue = [0, 13]'),\n",
       " Text(0.13816793893129772, 0.7105263157894737, 'gini = 0.0\\nsamples = 2\\nvalue = [2, 0]'),\n",
       " Text(0.2152671755725191, 0.868421052631579, 'X[1] <= 1229.75\\ngini = 0.493\\nsamples = 237\\nvalue = [104, 133]'),\n",
       " Text(0.17557251908396945, 0.8157894736842105, 'X[10] <= 250.81\\ngini = 0.395\\nsamples = 48\\nvalue = [35, 13]'),\n",
       " Text(0.16946564885496182, 0.7631578947368421, 'X[8] <= 3.5\\ngini = 0.325\\nsamples = 44\\nvalue = [35, 9]'),\n",
       " Text(0.15725190839694655, 0.7105263157894737, 'X[1] <= 1224.5\\ngini = 0.498\\nsamples = 15\\nvalue = [7, 8]'),\n",
       " Text(0.15114503816793892, 0.6578947368421053, 'X[6] <= 2.0\\ngini = 0.444\\nsamples = 12\\nvalue = [4, 8]'),\n",
       " Text(0.1450381679389313, 0.6052631578947368, 'gini = 0.0\\nsamples = 1\\nvalue = [1, 0]'),\n",
       " Text(0.15725190839694655, 0.6052631578947368, 'X[1] <= 1204.25\\ngini = 0.397\\nsamples = 11\\nvalue = [3, 8]'),\n",
       " Text(0.15114503816793892, 0.5526315789473685, 'gini = 0.0\\nsamples = 1\\nvalue = [1, 0]'),\n",
       " Text(0.1633587786259542, 0.5526315789473685, 'X[7] <= 100.0\\ngini = 0.32\\nsamples = 10\\nvalue = [2, 8]'),\n",
       " Text(0.15725190839694655, 0.5, 'X[10] <= 154.08\\ngini = 0.444\\nsamples = 6\\nvalue = [2, 4]'),\n",
       " Text(0.15114503816793892, 0.4473684210526316, 'gini = 0.0\\nsamples = 2\\nvalue = [2, 0]'),\n",
       " Text(0.1633587786259542, 0.4473684210526316, 'gini = 0.0\\nsamples = 4\\nvalue = [0, 4]'),\n",
       " Text(0.16946564885496182, 0.5, 'gini = 0.0\\nsamples = 4\\nvalue = [0, 4]'),\n",
       " Text(0.1633587786259542, 0.6578947368421053, 'gini = 0.0\\nsamples = 3\\nvalue = [3, 0]'),\n",
       " Text(0.18167938931297709, 0.7105263157894737, 'X[1] <= 1158.5\\ngini = 0.067\\nsamples = 29\\nvalue = [28, 1]'),\n",
       " Text(0.17557251908396945, 0.6578947368421053, 'gini = 0.0\\nsamples = 1\\nvalue = [0, 1]'),\n",
       " Text(0.18778625954198475, 0.6578947368421053, 'gini = 0.0\\nsamples = 28\\nvalue = [28, 0]'),\n",
       " Text(0.18167938931297709, 0.7631578947368421, 'gini = 0.0\\nsamples = 4\\nvalue = [0, 4]'),\n",
       " Text(0.2549618320610687, 0.8157894736842105, 'X[1] <= 1319.0\\ngini = 0.464\\nsamples = 189\\nvalue = [69, 120]'),\n",
       " Text(0.24885496183206107, 0.7631578947368421, 'X[2] <= 2.5\\ngini = 0.434\\nsamples = 176\\nvalue = [56, 120]'),\n",
       " Text(0.22137404580152673, 0.7105263157894737, 'X[3] <= 70500.0\\ngini = 0.496\\nsamples = 57\\nvalue = [31, 26]'),\n",
       " Text(0.2, 0.6578947368421053, 'X[10] <= 163.396\\ngini = 0.475\\nsamples = 31\\nvalue = [12, 19]'),\n",
       " Text(0.18778625954198475, 0.6052631578947368, 'X[7] <= 85.5\\ngini = 0.305\\nsamples = 16\\nvalue = [3, 13]'),\n",
       " Text(0.18167938931297709, 0.5526315789473685, 'gini = 0.0\\nsamples = 2\\nvalue = [2, 0]'),\n",
       " Text(0.19389312977099238, 0.5526315789473685, 'X[9] <= 111505.5\\ngini = 0.133\\nsamples = 14\\nvalue = [1, 13]'),\n",
       " Text(0.18778625954198475, 0.5, 'gini = 0.0\\nsamples = 13\\nvalue = [0, 13]'),\n",
       " Text(0.2, 0.5, 'gini = 0.0\\nsamples = 1\\nvalue = [1, 0]'),\n",
       " Text(0.21221374045801528, 0.6052631578947368, 'X[9] <= 151302.0\\ngini = 0.48\\nsamples = 15\\nvalue = [9, 6]'),\n",
       " Text(0.20610687022900764, 0.5526315789473685, 'gini = 0.0\\nsamples = 8\\nvalue = [8, 0]'),\n",
       " Text(0.2183206106870229, 0.5526315789473685, 'X[0] <= 5.5\\ngini = 0.245\\nsamples = 7\\nvalue = [1, 6]'),\n",
       " Text(0.21221374045801528, 0.5, 'gini = 0.0\\nsamples = 1\\nvalue = [1, 0]'),\n",
       " Text(0.22442748091603054, 0.5, 'gini = 0.0\\nsamples = 6\\nvalue = [0, 6]'),\n",
       " Text(0.24274809160305344, 0.6578947368421053, 'X[7] <= 88.0\\ngini = 0.393\\nsamples = 26\\nvalue = [19, 7]'),\n",
       " Text(0.2366412213740458, 0.6052631578947368, 'X[5] <= 13.0\\ngini = 0.346\\nsamples = 9\\nvalue = [2, 7]'),\n",
       " Text(0.23053435114503817, 0.5526315789473685, 'gini = 0.0\\nsamples = 7\\nvalue = [0, 7]'),\n",
       " Text(0.24274809160305344, 0.5526315789473685, 'gini = 0.0\\nsamples = 2\\nvalue = [2, 0]'),\n",
       " Text(0.24885496183206107, 0.6052631578947368, 'gini = 0.0\\nsamples = 17\\nvalue = [17, 0]'),\n",
       " Text(0.27633587786259545, 0.7105263157894737, 'X[7] <= 79.5\\ngini = 0.332\\nsamples = 119\\nvalue = [25, 94]'),\n",
       " Text(0.27022900763358776, 0.6578947368421053, 'gini = 0.0\\nsamples = 2\\nvalue = [2, 0]'),\n",
       " Text(0.2824427480916031, 0.6578947368421053, 'X[3] <= 74500.0\\ngini = 0.316\\nsamples = 117\\nvalue = [23, 94]'),\n",
       " Text(0.26106870229007634, 0.6052631578947368, 'X[7] <= 87.5\\ngini = 0.397\\nsamples = 66\\nvalue = [18, 48]'),\n",
       " Text(0.2549618320610687, 0.5526315789473685, 'gini = 0.0\\nsamples = 24\\nvalue = [0, 24]'),\n",
       " Text(0.26717557251908397, 0.5526315789473685, 'X[7] <= 97.5\\ngini = 0.49\\nsamples = 42\\nvalue = [18, 24]'),\n",
       " Text(0.26106870229007634, 0.5, 'gini = 0.0\\nsamples = 5\\nvalue = [5, 0]'),\n",
       " Text(0.2732824427480916, 0.5, 'X[6] <= 3.0\\ngini = 0.456\\nsamples = 37\\nvalue = [13, 24]'),\n",
       " Text(0.26717557251908397, 0.4473684210526316, 'gini = 0.0\\nsamples = 3\\nvalue = [3, 0]'),\n",
       " Text(0.27938931297709924, 0.4473684210526316, 'X[9] <= 60030.0\\ngini = 0.415\\nsamples = 34\\nvalue = [10, 24]'),\n",
       " Text(0.2732824427480916, 0.39473684210526316, 'gini = 0.0\\nsamples = 9\\nvalue = [0, 9]'),\n",
       " Text(0.28549618320610687, 0.39473684210526316, 'X[9] <= 60093.0\\ngini = 0.48\\nsamples = 25\\nvalue = [10, 15]'),\n",
       " Text(0.27938931297709924, 0.34210526315789475, 'gini = 0.0\\nsamples = 5\\nvalue = [5, 0]'),\n",
       " Text(0.2916030534351145, 0.34210526315789475, 'X[1] <= 1304.75\\ngini = 0.375\\nsamples = 20\\nvalue = [5, 15]'),\n",
       " Text(0.28549618320610687, 0.2894736842105263, 'X[7] <= 114.0\\ngini = 0.332\\nsamples = 19\\nvalue = [4, 15]'),\n",
       " Text(0.27938931297709924, 0.23684210526315788, 'X[8] <= 4.5\\ngini = 0.278\\nsamples = 18\\nvalue = [3, 15]'),\n",
       " Text(0.26717557251908397, 0.18421052631578946, 'X[9] <= 240656.0\\ngini = 0.142\\nsamples = 13\\nvalue = [1, 12]'),\n",
       " Text(0.26106870229007634, 0.13157894736842105, 'gini = 0.0\\nsamples = 10\\nvalue = [0, 10]'),\n",
       " Text(0.2732824427480916, 0.13157894736842105, 'X[10] <= 172.109\\ngini = 0.444\\nsamples = 3\\nvalue = [1, 2]'),\n",
       " Text(0.26717557251908397, 0.07894736842105263, 'gini = 0.0\\nsamples = 1\\nvalue = [1, 0]'),\n",
       " Text(0.27938931297709924, 0.07894736842105263, 'gini = 0.0\\nsamples = 2\\nvalue = [0, 2]'),\n",
       " Text(0.2916030534351145, 0.18421052631578946, 'X[1] <= 1268.0\\ngini = 0.48\\nsamples = 5\\nvalue = [2, 3]'),\n",
       " Text(0.28549618320610687, 0.13157894736842105, 'gini = 0.0\\nsamples = 2\\nvalue = [2, 0]'),\n",
       " Text(0.29770992366412213, 0.13157894736842105, 'gini = 0.0\\nsamples = 3\\nvalue = [0, 3]'),\n",
       " Text(0.2916030534351145, 0.23684210526315788, 'gini = 0.0\\nsamples = 1\\nvalue = [1, 0]'),\n",
       " Text(0.29770992366412213, 0.2894736842105263, 'gini = 0.0\\nsamples = 1\\nvalue = [1, 0]'),\n",
       " Text(0.30381679389312977, 0.6052631578947368, 'X[7] <= 87.0\\ngini = 0.177\\nsamples = 51\\nvalue = [5, 46]'),\n",
       " Text(0.29770992366412213, 0.5526315789473685, 'gini = 0.0\\nsamples = 2\\nvalue = [2, 0]'),\n",
       " Text(0.3099236641221374, 0.5526315789473685, 'X[7] <= 97.5\\ngini = 0.115\\nsamples = 49\\nvalue = [3, 46]'),\n",
       " Text(0.29770992366412213, 0.5, 'X[1] <= 1266.5\\ngini = 0.346\\nsamples = 9\\nvalue = [2, 7]'),\n",
       " Text(0.2916030534351145, 0.4473684210526316, 'gini = 0.0\\nsamples = 2\\nvalue = [2, 0]'),\n",
       " Text(0.30381679389312977, 0.4473684210526316, 'gini = 0.0\\nsamples = 7\\nvalue = [0, 7]'),\n",
       " Text(0.32213740458015266, 0.5, 'X[1] <= 1240.25\\ngini = 0.049\\nsamples = 40\\nvalue = [1, 39]'),\n",
       " Text(0.31603053435114503, 0.4473684210526316, 'X[5] <= 13.0\\ngini = 0.278\\nsamples = 6\\nvalue = [1, 5]'),\n",
       " Text(0.3099236641221374, 0.39473684210526316, 'gini = 0.0\\nsamples = 5\\nvalue = [0, 5]'),\n",
       " Text(0.32213740458015266, 0.39473684210526316, 'gini = 0.0\\nsamples = 1\\nvalue = [1, 0]'),\n",
       " Text(0.3282442748091603, 0.4473684210526316, 'gini = 0.0\\nsamples = 34\\nvalue = [0, 34]'),\n",
       " Text(0.26106870229007634, 0.7631578947368421, 'gini = 0.0\\nsamples = 13\\nvalue = [13, 0]'),\n",
       " Text(0.7342557251908397, 0.9210526315789473, 'X[0] <= 6.0\\ngini = 0.478\\nsamples = 875\\nvalue = [530, 345]'),\n",
       " Text(0.5956106870229008, 0.868421052631579, 'X[10] <= 239.001\\ngini = 0.446\\nsamples = 465\\nvalue = [309, 156]'),\n",
       " Text(0.533206106870229, 0.8157894736842105, 'X[10] <= 193.122\\ngini = 0.424\\nsamples = 407\\nvalue = [283, 124]'),\n",
       " Text(0.46946564885496184, 0.7631578947368421, 'X[1] <= 1238.75\\ngini = 0.472\\nsamples = 304\\nvalue = [188, 116]'),\n",
       " Text(0.4633587786259542, 0.7105263157894737, 'gini = 0.0\\nsamples = 20\\nvalue = [20, 0]'),\n",
       " Text(0.47557251908396947, 0.7105263157894737, 'X[1] <= 1292.75\\ngini = 0.483\\nsamples = 284\\nvalue = [168, 116]'),\n",
       " Text(0.4122137404580153, 0.6578947368421053, 'X[3] <= 119500.0\\ngini = 0.5\\nsamples = 170\\nvalue = [87, 83]'),\n",
       " Text(0.37404580152671757, 0.6052631578947368, 'X[2] <= 2.5\\ngini = 0.48\\nsamples = 100\\nvalue = [60, 40]'),\n",
       " Text(0.3526717557251908, 0.5526315789473685, 'X[10] <= 191.644\\ngini = 0.325\\nsamples = 44\\nvalue = [35, 9]'),\n",
       " Text(0.3465648854961832, 0.5, 'X[10] <= 71.211\\ngini = 0.25\\nsamples = 41\\nvalue = [35, 6]'),\n",
       " Text(0.34045801526717556, 0.4473684210526316, 'X[2] <= 1.5\\ngini = 0.457\\nsamples = 17\\nvalue = [11, 6]'),\n",
       " Text(0.33435114503816793, 0.39473684210526316, 'gini = 0.0\\nsamples = 8\\nvalue = [8, 0]'),\n",
       " Text(0.3465648854961832, 0.39473684210526316, 'X[9] <= 71500.0\\ngini = 0.444\\nsamples = 9\\nvalue = [3, 6]'),\n",
       " Text(0.34045801526717556, 0.34210526315789475, 'gini = 0.0\\nsamples = 3\\nvalue = [3, 0]'),\n",
       " Text(0.3526717557251908, 0.34210526315789475, 'gini = 0.0\\nsamples = 6\\nvalue = [0, 6]'),\n",
       " Text(0.3526717557251908, 0.4473684210526316, 'gini = 0.0\\nsamples = 24\\nvalue = [24, 0]'),\n",
       " Text(0.35877862595419846, 0.5, 'gini = 0.0\\nsamples = 3\\nvalue = [0, 3]'),\n",
       " Text(0.39541984732824426, 0.5526315789473685, 'X[6] <= 6.5\\ngini = 0.494\\nsamples = 56\\nvalue = [25, 31]'),\n",
       " Text(0.383206106870229, 0.5, 'X[3] <= 112000.0\\ngini = 0.458\\nsamples = 45\\nvalue = [16, 29]'),\n",
       " Text(0.37709923664122136, 0.4473684210526316, 'X[9] <= 355552.0\\ngini = 0.414\\nsamples = 41\\nvalue = [12, 29]'),\n",
       " Text(0.3709923664122137, 0.39473684210526316, 'X[7] <= 69.5\\ngini = 0.339\\nsamples = 37\\nvalue = [8, 29]'),\n",
       " Text(0.3648854961832061, 0.34210526315789475, 'gini = 0.0\\nsamples = 2\\nvalue = [2, 0]'),\n",
       " Text(0.37709923664122136, 0.34210526315789475, 'X[1] <= 1285.706\\ngini = 0.284\\nsamples = 35\\nvalue = [6, 29]'),\n",
       " Text(0.3709923664122137, 0.2894736842105263, 'X[3] <= 105500.0\\ngini = 0.213\\nsamples = 33\\nvalue = [4, 29]'),\n",
       " Text(0.35877862595419846, 0.23684210526315788, 'X[0] <= 4.5\\ngini = 0.128\\nsamples = 29\\nvalue = [2, 27]'),\n",
       " Text(0.3526717557251908, 0.18421052631578946, 'gini = 0.0\\nsamples = 20\\nvalue = [0, 20]'),\n",
       " Text(0.3648854961832061, 0.18421052631578946, 'X[1] <= 1243.25\\ngini = 0.346\\nsamples = 9\\nvalue = [2, 7]'),\n",
       " Text(0.35877862595419846, 0.13157894736842105, 'gini = 0.0\\nsamples = 1\\nvalue = [1, 0]'),\n",
       " Text(0.3709923664122137, 0.13157894736842105, 'X[3] <= 93000.0\\ngini = 0.219\\nsamples = 8\\nvalue = [1, 7]'),\n",
       " Text(0.3648854961832061, 0.07894736842105263, 'gini = 0.0\\nsamples = 7\\nvalue = [0, 7]'),\n",
       " Text(0.37709923664122136, 0.07894736842105263, 'gini = 0.0\\nsamples = 1\\nvalue = [1, 0]'),\n",
       " Text(0.383206106870229, 0.23684210526315788, 'X[9] <= 250687.5\\ngini = 0.5\\nsamples = 4\\nvalue = [2, 2]'),\n",
       " Text(0.37709923664122136, 0.18421052631578946, 'gini = 0.0\\nsamples = 2\\nvalue = [2, 0]'),\n",
       " Text(0.3893129770992366, 0.18421052631578946, 'gini = 0.0\\nsamples = 2\\nvalue = [0, 2]'),\n",
       " Text(0.383206106870229, 0.2894736842105263, 'gini = 0.0\\nsamples = 2\\nvalue = [2, 0]'),\n",
       " Text(0.383206106870229, 0.39473684210526316, 'gini = 0.0\\nsamples = 4\\nvalue = [4, 0]'),\n",
       " Text(0.3893129770992366, 0.4473684210526316, 'gini = 0.0\\nsamples = 4\\nvalue = [4, 0]'),\n",
       " Text(0.4076335877862595, 0.5, 'X[10] <= 180.144\\ngini = 0.298\\nsamples = 11\\nvalue = [9, 2]'),\n",
       " Text(0.4015267175572519, 0.4473684210526316, 'X[3] <= 90000.0\\ngini = 0.18\\nsamples = 10\\nvalue = [9, 1]'),\n",
       " Text(0.39541984732824426, 0.39473684210526316, 'gini = 0.0\\nsamples = 1\\nvalue = [0, 1]'),\n",
       " Text(0.4076335877862595, 0.39473684210526316, 'gini = 0.0\\nsamples = 9\\nvalue = [9, 0]'),\n",
       " Text(0.41374045801526715, 0.4473684210526316, 'gini = 0.0\\nsamples = 1\\nvalue = [0, 1]'),\n",
       " Text(0.45038167938931295, 0.6052631578947368, 'X[9] <= 60055.0\\ngini = 0.474\\nsamples = 70\\nvalue = [27, 43]'),\n",
       " Text(0.4381679389312977, 0.5526315789473685, 'X[3] <= 375000.0\\ngini = 0.355\\nsamples = 13\\nvalue = [10, 3]'),\n",
       " Text(0.43206106870229005, 0.5, 'X[1] <= 1261.25\\ngini = 0.165\\nsamples = 11\\nvalue = [10, 1]'),\n",
       " Text(0.4259541984732824, 0.4473684210526316, 'X[7] <= 107.5\\ngini = 0.5\\nsamples = 2\\nvalue = [1, 1]'),\n",
       " Text(0.4198473282442748, 0.39473684210526316, 'gini = 0.0\\nsamples = 1\\nvalue = [0, 1]'),\n",
       " Text(0.43206106870229005, 0.39473684210526316, 'gini = 0.0\\nsamples = 1\\nvalue = [1, 0]'),\n",
       " Text(0.4381679389312977, 0.4473684210526316, 'gini = 0.0\\nsamples = 9\\nvalue = [9, 0]'),\n",
       " Text(0.4442748091603053, 0.5, 'gini = 0.0\\nsamples = 2\\nvalue = [0, 2]'),\n",
       " Text(0.46259541984732827, 0.5526315789473685, 'X[1] <= 1253.75\\ngini = 0.419\\nsamples = 57\\nvalue = [17, 40]'),\n",
       " Text(0.45648854961832064, 0.5, 'gini = 0.0\\nsamples = 5\\nvalue = [5, 0]'),\n",
       " Text(0.4687022900763359, 0.5, 'X[3] <= 146500.0\\ngini = 0.355\\nsamples = 52\\nvalue = [12, 40]'),\n",
       " Text(0.45648854961832064, 0.4473684210526316, 'X[1] <= 1289.75\\ngini = 0.161\\nsamples = 34\\nvalue = [3, 31]'),\n",
       " Text(0.45038167938931295, 0.39473684210526316, 'X[6] <= 2.0\\ngini = 0.114\\nsamples = 33\\nvalue = [2, 31]'),\n",
       " Text(0.4442748091603053, 0.34210526315789475, 'gini = 0.0\\nsamples = 1\\nvalue = [1, 0]'),\n",
       " Text(0.45648854961832064, 0.34210526315789475, 'X[8] <= 3.5\\ngini = 0.061\\nsamples = 32\\nvalue = [1, 31]'),\n",
       " Text(0.45038167938931295, 0.2894736842105263, 'X[3] <= 130500.0\\ngini = 0.245\\nsamples = 7\\nvalue = [1, 6]'),\n",
       " Text(0.4442748091603053, 0.23684210526315788, 'gini = 0.0\\nsamples = 1\\nvalue = [1, 0]'),\n",
       " Text(0.45648854961832064, 0.23684210526315788, 'gini = 0.0\\nsamples = 6\\nvalue = [0, 6]'),\n",
       " Text(0.46259541984732827, 0.2894736842105263, 'gini = 0.0\\nsamples = 25\\nvalue = [0, 25]'),\n",
       " Text(0.46259541984732827, 0.39473684210526316, 'gini = 0.0\\nsamples = 1\\nvalue = [1, 0]'),\n",
       " Text(0.48091603053435117, 0.4473684210526316, 'X[3] <= 202500.0\\ngini = 0.5\\nsamples = 18\\nvalue = [9, 9]'),\n",
       " Text(0.47480916030534354, 0.39473684210526316, 'gini = 0.0\\nsamples = 7\\nvalue = [7, 0]'),\n",
       " Text(0.4870229007633588, 0.39473684210526316, 'X[9] <= 340016.0\\ngini = 0.298\\nsamples = 11\\nvalue = [2, 9]'),\n",
       " Text(0.48091603053435117, 0.34210526315789475, 'gini = 0.0\\nsamples = 9\\nvalue = [0, 9]'),\n",
       " Text(0.49312977099236643, 0.34210526315789475, 'gini = 0.0\\nsamples = 2\\nvalue = [2, 0]'),\n",
       " Text(0.5389312977099237, 0.6578947368421053, 'X[9] <= 350016.0\\ngini = 0.411\\nsamples = 114\\nvalue = [81, 33]'),\n",
       " Text(0.5236641221374045, 0.6052631578947368, 'X[10] <= 189.846\\ngini = 0.315\\nsamples = 92\\nvalue = [74, 18]'),\n",
       " Text(0.517557251908397, 0.5526315789473685, 'X[7] <= 99.0\\ngini = 0.28\\nsamples = 89\\nvalue = [74, 15]'),\n",
       " Text(0.5114503816793893, 0.5, 'gini = 0.0\\nsamples = 30\\nvalue = [30, 0]'),\n",
       " Text(0.5236641221374045, 0.5, 'X[3] <= 173000.0\\ngini = 0.379\\nsamples = 59\\nvalue = [44, 15]'),\n",
       " Text(0.5114503816793893, 0.4473684210526316, 'X[3] <= 88500.0\\ngini = 0.278\\nsamples = 48\\nvalue = [40, 8]'),\n",
       " Text(0.5053435114503817, 0.39473684210526316, 'gini = 0.0\\nsamples = 2\\nvalue = [0, 2]'),\n",
       " Text(0.517557251908397, 0.39473684210526316, 'X[8] <= 3.5\\ngini = 0.227\\nsamples = 46\\nvalue = [40, 6]'),\n",
       " Text(0.5053435114503817, 0.34210526315789475, 'X[7] <= 108.5\\ngini = 0.5\\nsamples = 8\\nvalue = [4, 4]'),\n",
       " Text(0.49923664122137407, 0.2894736842105263, 'X[9] <= 332429.0\\ngini = 0.32\\nsamples = 5\\nvalue = [1, 4]'),\n",
       " Text(0.49312977099236643, 0.23684210526315788, 'gini = 0.0\\nsamples = 4\\nvalue = [0, 4]'),\n",
       " Text(0.5053435114503817, 0.23684210526315788, 'gini = 0.0\\nsamples = 1\\nvalue = [1, 0]'),\n",
       " Text(0.5114503816793893, 0.2894736842105263, 'gini = 0.0\\nsamples = 3\\nvalue = [3, 0]'),\n",
       " Text(0.5297709923664122, 0.34210526315789475, 'X[6] <= 8.5\\ngini = 0.1\\nsamples = 38\\nvalue = [36, 2]'),\n",
       " Text(0.5236641221374045, 0.2894736842105263, 'gini = 0.0\\nsamples = 30\\nvalue = [30, 0]'),\n",
       " Text(0.5358778625954198, 0.2894736842105263, 'X[2] <= 2.0\\ngini = 0.375\\nsamples = 8\\nvalue = [6, 2]'),\n",
       " Text(0.5297709923664122, 0.23684210526315788, 'X[7] <= 109.0\\ngini = 0.444\\nsamples = 3\\nvalue = [1, 2]'),\n",
       " Text(0.5236641221374045, 0.18421052631578946, 'gini = 0.0\\nsamples = 2\\nvalue = [0, 2]'),\n",
       " Text(0.5358778625954198, 0.18421052631578946, 'gini = 0.0\\nsamples = 1\\nvalue = [1, 0]'),\n",
       " Text(0.5419847328244275, 0.23684210526315788, 'gini = 0.0\\nsamples = 5\\nvalue = [5, 0]'),\n",
       " Text(0.5358778625954198, 0.4473684210526316, 'X[3] <= 192500.0\\ngini = 0.463\\nsamples = 11\\nvalue = [4, 7]'),\n",
       " Text(0.5297709923664122, 0.39473684210526316, 'gini = 0.0\\nsamples = 7\\nvalue = [0, 7]'),\n",
       " Text(0.5419847328244275, 0.39473684210526316, 'gini = 0.0\\nsamples = 4\\nvalue = [4, 0]'),\n",
       " Text(0.5297709923664122, 0.5526315789473685, 'gini = 0.0\\nsamples = 3\\nvalue = [0, 3]'),\n",
       " Text(0.5541984732824428, 0.6052631578947368, 'X[7] <= 97.5\\ngini = 0.434\\nsamples = 22\\nvalue = [7, 15]'),\n",
       " Text(0.5419847328244275, 0.5526315789473685, 'X[1] <= 1381.25\\ngini = 0.133\\nsamples = 14\\nvalue = [1, 13]'),\n",
       " Text(0.5358778625954198, 0.5, 'gini = 0.0\\nsamples = 13\\nvalue = [0, 13]'),\n",
       " Text(0.5480916030534351, 0.5, 'gini = 0.0\\nsamples = 1\\nvalue = [1, 0]'),\n",
       " Text(0.566412213740458, 0.5526315789473685, 'X[9] <= 361043.0\\ngini = 0.375\\nsamples = 8\\nvalue = [6, 2]'),\n",
       " Text(0.5603053435114503, 0.5, 'gini = 0.0\\nsamples = 5\\nvalue = [5, 0]'),\n",
       " Text(0.5725190839694656, 0.5, 'X[5] <= 11.5\\ngini = 0.444\\nsamples = 3\\nvalue = [1, 2]'),\n",
       " Text(0.566412213740458, 0.4473684210526316, 'gini = 0.0\\nsamples = 2\\nvalue = [0, 2]'),\n",
       " Text(0.5786259541984733, 0.4473684210526316, 'gini = 0.0\\nsamples = 1\\nvalue = [1, 0]'),\n",
       " Text(0.5969465648854961, 0.7631578947368421, 'X[6] <= 0.5\\ngini = 0.143\\nsamples = 103\\nvalue = [95, 8]'),\n",
       " Text(0.5847328244274809, 0.7105263157894737, 'X[2] <= 1.5\\ngini = 0.492\\nsamples = 16\\nvalue = [9, 7]'),\n",
       " Text(0.5786259541984733, 0.6578947368421053, 'X[10] <= 205.684\\ngini = 0.298\\nsamples = 11\\nvalue = [9, 2]'),\n",
       " Text(0.5725190839694656, 0.6052631578947368, 'gini = 0.0\\nsamples = 8\\nvalue = [8, 0]'),\n",
       " Text(0.5847328244274809, 0.6052631578947368, 'X[3] <= 120500.0\\ngini = 0.444\\nsamples = 3\\nvalue = [1, 2]'),\n",
       " Text(0.5786259541984733, 0.5526315789473685, 'gini = 0.0\\nsamples = 1\\nvalue = [1, 0]'),\n",
       " Text(0.5908396946564886, 0.5526315789473685, 'gini = 0.0\\nsamples = 2\\nvalue = [0, 2]'),\n",
       " Text(0.5908396946564886, 0.6578947368421053, 'gini = 0.0\\nsamples = 5\\nvalue = [0, 5]'),\n",
       " Text(0.6091603053435114, 0.7105263157894737, 'X[9] <= 350041.5\\ngini = 0.023\\nsamples = 87\\nvalue = [86, 1]'),\n",
       " Text(0.6030534351145038, 0.6578947368421053, 'gini = 0.0\\nsamples = 72\\nvalue = [72, 0]'),\n",
       " Text(0.6152671755725191, 0.6578947368421053, 'X[9] <= 350064.5\\ngini = 0.124\\nsamples = 15\\nvalue = [14, 1]'),\n",
       " Text(0.6091603053435114, 0.6052631578947368, 'gini = 0.0\\nsamples = 1\\nvalue = [0, 1]'),\n",
       " Text(0.6213740458015267, 0.6052631578947368, 'gini = 0.0\\nsamples = 14\\nvalue = [14, 0]'),\n",
       " Text(0.6580152671755726, 0.8157894736842105, 'X[9] <= 72000.5\\ngini = 0.495\\nsamples = 58\\nvalue = [26, 32]'),\n",
       " Text(0.6519083969465649, 0.7631578947368421, 'X[1] <= 1382.0\\ngini = 0.411\\nsamples = 45\\nvalue = [13, 32]'),\n",
       " Text(0.6458015267175573, 0.7105263157894737, 'X[3] <= 282000.0\\ngini = 0.363\\nsamples = 42\\nvalue = [10, 32]'),\n",
       " Text(0.6396946564885496, 0.6578947368421053, 'X[7] <= 86.5\\ngini = 0.32\\nsamples = 40\\nvalue = [8, 32]'),\n",
       " Text(0.6335877862595419, 0.6052631578947368, 'gini = 0.0\\nsamples = 2\\nvalue = [2, 0]'),\n",
       " Text(0.6458015267175573, 0.6052631578947368, 'X[2] <= 1.5\\ngini = 0.266\\nsamples = 38\\nvalue = [6, 32]'),\n",
       " Text(0.6335877862595419, 0.5526315789473685, 'X[9] <= 60036.5\\ngini = 0.48\\nsamples = 5\\nvalue = [3, 2]'),\n",
       " Text(0.6274809160305344, 0.5, 'gini = 0.0\\nsamples = 3\\nvalue = [3, 0]'),\n",
       " Text(0.6396946564885496, 0.5, 'gini = 0.0\\nsamples = 2\\nvalue = [0, 2]'),\n",
       " Text(0.6580152671755726, 0.5526315789473685, 'X[3] <= 201000.0\\ngini = 0.165\\nsamples = 33\\nvalue = [3, 30]'),\n",
       " Text(0.6519083969465649, 0.5, 'X[6] <= 2.0\\ngini = 0.117\\nsamples = 32\\nvalue = [2, 30]'),\n",
       " Text(0.6458015267175573, 0.4473684210526316, 'gini = 0.0\\nsamples = 1\\nvalue = [1, 0]'),\n",
       " Text(0.6580152671755726, 0.4473684210526316, 'X[6] <= 7.0\\ngini = 0.062\\nsamples = 31\\nvalue = [1, 30]'),\n",
       " Text(0.6519083969465649, 0.39473684210526316, 'gini = 0.0\\nsamples = 27\\nvalue = [0, 27]'),\n",
       " Text(0.6641221374045801, 0.39473684210526316, 'X[3] <= 141000.0\\ngini = 0.375\\nsamples = 4\\nvalue = [1, 3]'),\n",
       " Text(0.6580152671755726, 0.34210526315789475, 'gini = 0.0\\nsamples = 3\\nvalue = [0, 3]'),\n",
       " Text(0.6702290076335878, 0.34210526315789475, 'gini = 0.0\\nsamples = 1\\nvalue = [1, 0]'),\n",
       " Text(0.6641221374045801, 0.5, 'gini = 0.0\\nsamples = 1\\nvalue = [1, 0]'),\n",
       " Text(0.6519083969465649, 0.6578947368421053, 'gini = 0.0\\nsamples = 2\\nvalue = [2, 0]'),\n",
       " Text(0.6580152671755726, 0.7105263157894737, 'gini = 0.0\\nsamples = 3\\nvalue = [3, 0]'),\n",
       " Text(0.6641221374045801, 0.7631578947368421, 'gini = 0.0\\nsamples = 13\\nvalue = [13, 0]'),\n",
       " Text(0.8729007633587786, 0.868421052631579, 'X[10] <= 315.597\\ngini = 0.497\\nsamples = 410\\nvalue = [221, 189]'),\n",
       " Text(0.8175572519083969, 0.8157894736842105, 'X[9] <= 60010.5\\ngini = 0.499\\nsamples = 390\\nvalue = [203, 187]'),\n",
       " Text(0.7374045801526717, 0.7631578947368421, 'X[4] <= 1.5\\ngini = 0.219\\nsamples = 24\\nvalue = [21, 3]'),\n",
       " Text(0.7312977099236642, 0.7105263157894737, 'gini = 0.0\\nsamples = 2\\nvalue = [0, 2]'),\n",
       " Text(0.7435114503816794, 0.7105263157894737, 'X[3] <= 95000.0\\ngini = 0.087\\nsamples = 22\\nvalue = [21, 1]'),\n",
       " Text(0.7374045801526717, 0.6578947368421053, 'X[3] <= 91500.0\\ngini = 0.375\\nsamples = 4\\nvalue = [3, 1]'),\n",
       " Text(0.7312977099236642, 0.6052631578947368, 'gini = 0.0\\nsamples = 3\\nvalue = [3, 0]'),\n",
       " Text(0.7435114503816794, 0.6052631578947368, 'gini = 0.0\\nsamples = 1\\nvalue = [0, 1]'),\n",
       " Text(0.749618320610687, 0.6578947368421053, 'gini = 0.0\\nsamples = 18\\nvalue = [18, 0]'),\n",
       " Text(0.8977099236641222, 0.7631578947368421, 'X[3] <= 285000.0\\ngini = 0.5\\nsamples = 366\\nvalue = [182, 184]'),\n",
       " Text(0.8916030534351145, 0.7105263157894737, 'X[10] <= 242.358\\ngini = 0.499\\nsamples = 355\\nvalue = [171, 184]'),\n",
       " Text(0.8198473282442749, 0.6578947368421053, 'X[1] <= 1298.75\\ngini = 0.499\\nsamples = 308\\nvalue = [159, 149]'),\n",
       " Text(0.7557251908396947, 0.6052631578947368, 'X[3] <= 98500.0\\ngini = 0.483\\nsamples = 169\\nvalue = [100, 69]'),\n",
       " Text(0.716030534351145, 0.5526315789473685, 'X[7] <= 105.5\\ngini = 0.481\\nsamples = 62\\nvalue = [25, 37]'),\n",
       " Text(0.6946564885496184, 0.5, 'X[3] <= 89500.0\\ngini = 0.343\\nsamples = 41\\nvalue = [9, 32]'),\n",
       " Text(0.6824427480916031, 0.4473684210526316, 'X[9] <= 60045.0\\ngini = 0.5\\nsamples = 12\\nvalue = [6, 6]'),\n",
       " Text(0.6763358778625954, 0.39473684210526316, 'gini = 0.0\\nsamples = 4\\nvalue = [0, 4]'),\n",
       " Text(0.6885496183206107, 0.39473684210526316, 'X[7] <= 104.0\\ngini = 0.375\\nsamples = 8\\nvalue = [6, 2]'),\n",
       " Text(0.6824427480916031, 0.34210526315789475, 'gini = 0.0\\nsamples = 6\\nvalue = [6, 0]'),\n",
       " Text(0.6946564885496184, 0.34210526315789475, 'gini = 0.0\\nsamples = 2\\nvalue = [0, 2]'),\n",
       " Text(0.7068702290076336, 0.4473684210526316, 'X[1] <= 1187.75\\ngini = 0.185\\nsamples = 29\\nvalue = [3, 26]'),\n",
       " Text(0.7007633587786259, 0.39473684210526316, 'gini = 0.0\\nsamples = 1\\nvalue = [1, 0]'),\n",
       " Text(0.7129770992366412, 0.39473684210526316, 'X[9] <= 60038.0\\ngini = 0.133\\nsamples = 28\\nvalue = [2, 26]'),\n",
       " Text(0.7068702290076336, 0.34210526315789475, 'X[1] <= 1226.0\\ngini = 0.346\\nsamples = 9\\nvalue = [2, 7]'),\n",
       " Text(0.7007633587786259, 0.2894736842105263, 'gini = 0.0\\nsamples = 7\\nvalue = [0, 7]'),\n",
       " Text(0.7129770992366412, 0.2894736842105263, 'gini = 0.0\\nsamples = 2\\nvalue = [2, 0]'),\n",
       " Text(0.7190839694656489, 0.34210526315789475, 'gini = 0.0\\nsamples = 19\\nvalue = [0, 19]'),\n",
       " Text(0.7374045801526717, 0.5, 'X[1] <= 1291.25\\ngini = 0.363\\nsamples = 21\\nvalue = [16, 5]'),\n",
       " Text(0.7312977099236642, 0.4473684210526316, 'X[3] <= 93500.0\\ngini = 0.111\\nsamples = 17\\nvalue = [16, 1]'),\n",
       " Text(0.7251908396946565, 0.39473684210526316, 'gini = 0.0\\nsamples = 13\\nvalue = [13, 0]'),\n",
       " Text(0.7374045801526717, 0.39473684210526316, 'X[3] <= 95500.0\\ngini = 0.375\\nsamples = 4\\nvalue = [3, 1]'),\n",
       " Text(0.7312977099236642, 0.34210526315789475, 'gini = 0.0\\nsamples = 1\\nvalue = [0, 1]'),\n",
       " Text(0.7435114503816794, 0.34210526315789475, 'gini = 0.0\\nsamples = 3\\nvalue = [3, 0]'),\n",
       " Text(0.7435114503816794, 0.4473684210526316, 'gini = 0.0\\nsamples = 4\\nvalue = [0, 4]'),\n",
       " Text(0.7954198473282442, 0.5526315789473685, 'X[10] <= 216.54\\ngini = 0.419\\nsamples = 107\\nvalue = [75, 32]'),\n",
       " Text(0.76793893129771, 0.5, 'X[9] <= 60014.5\\ngini = 0.348\\nsamples = 89\\nvalue = [69, 20]'),\n",
       " Text(0.7618320610687023, 0.4473684210526316, 'gini = 0.0\\nsamples = 5\\nvalue = [0, 5]'),\n",
       " Text(0.7740458015267175, 0.4473684210526316, 'X[8] <= 4.5\\ngini = 0.293\\nsamples = 84\\nvalue = [69, 15]'),\n",
       " Text(0.7618320610687023, 0.39473684210526316, 'X[3] <= 107500.0\\ngini = 0.12\\nsamples = 47\\nvalue = [44, 3]'),\n",
       " Text(0.7557251908396947, 0.34210526315789475, 'X[2] <= 2.0\\ngini = 0.355\\nsamples = 13\\nvalue = [10, 3]'),\n",
       " Text(0.749618320610687, 0.2894736842105263, 'X[7] <= 111.0\\ngini = 0.48\\nsamples = 5\\nvalue = [2, 3]'),\n",
       " Text(0.7435114503816794, 0.23684210526315788, 'gini = 0.0\\nsamples = 3\\nvalue = [0, 3]'),\n",
       " Text(0.7557251908396947, 0.23684210526315788, 'gini = 0.0\\nsamples = 2\\nvalue = [2, 0]'),\n",
       " Text(0.7618320610687023, 0.2894736842105263, 'gini = 0.0\\nsamples = 8\\nvalue = [8, 0]'),\n",
       " Text(0.76793893129771, 0.34210526315789475, 'gini = 0.0\\nsamples = 34\\nvalue = [34, 0]'),\n",
       " Text(0.7862595419847328, 0.39473684210526316, 'X[10] <= 202.47\\ngini = 0.438\\nsamples = 37\\nvalue = [25, 12]'),\n",
       " Text(0.7801526717557252, 0.34210526315789475, 'X[10] <= 79.557\\ngini = 0.367\\nsamples = 33\\nvalue = [25, 8]'),\n",
       " Text(0.7740458015267175, 0.2894736842105263, 'X[9] <= 72000.5\\ngini = 0.463\\nsamples = 22\\nvalue = [14, 8]'),\n",
       " Text(0.76793893129771, 0.23684210526315788, 'X[9] <= 66045.5\\ngini = 0.498\\nsamples = 17\\nvalue = [9, 8]'),\n",
       " Text(0.7618320610687023, 0.18421052631578946, 'X[7] <= 89.5\\ngini = 0.459\\nsamples = 14\\nvalue = [9, 5]'),\n",
       " Text(0.7557251908396947, 0.13157894736842105, 'X[9] <= 60072.5\\ngini = 0.469\\nsamples = 8\\nvalue = [3, 5]'),\n",
       " Text(0.749618320610687, 0.07894736842105263, 'X[6] <= 2.0\\ngini = 0.278\\nsamples = 6\\nvalue = [1, 5]'),\n",
       " Text(0.7435114503816794, 0.02631578947368421, 'gini = 0.0\\nsamples = 1\\nvalue = [1, 0]'),\n",
       " Text(0.7557251908396947, 0.02631578947368421, 'gini = 0.0\\nsamples = 5\\nvalue = [0, 5]'),\n",
       " Text(0.7618320610687023, 0.07894736842105263, 'gini = 0.0\\nsamples = 2\\nvalue = [2, 0]'),\n",
       " Text(0.76793893129771, 0.13157894736842105, 'gini = 0.0\\nsamples = 6\\nvalue = [6, 0]'),\n",
       " Text(0.7740458015267175, 0.18421052631578946, 'gini = 0.0\\nsamples = 3\\nvalue = [0, 3]'),\n",
       " Text(0.7801526717557252, 0.23684210526315788, 'gini = 0.0\\nsamples = 5\\nvalue = [5, 0]'),\n",
       " Text(0.7862595419847328, 0.2894736842105263, 'gini = 0.0\\nsamples = 11\\nvalue = [11, 0]'),\n",
       " Text(0.7923664122137405, 0.34210526315789475, 'gini = 0.0\\nsamples = 4\\nvalue = [0, 4]'),\n",
       " Text(0.8229007633587786, 0.5, 'X[3] <= 131000.0\\ngini = 0.444\\nsamples = 18\\nvalue = [6, 12]'),\n",
       " Text(0.816793893129771, 0.4473684210526316, 'X[10] <= 229.394\\ngini = 0.245\\nsamples = 14\\nvalue = [2, 12]'),\n",
       " Text(0.8106870229007633, 0.39473684210526316, 'X[1] <= 1287.206\\ngini = 0.142\\nsamples = 13\\nvalue = [1, 12]'),\n",
       " Text(0.8045801526717558, 0.34210526315789475, 'gini = 0.0\\nsamples = 12\\nvalue = [0, 12]'),\n",
       " Text(0.816793893129771, 0.34210526315789475, 'gini = 0.0\\nsamples = 1\\nvalue = [1, 0]'),\n",
       " Text(0.8229007633587786, 0.39473684210526316, 'gini = 0.0\\nsamples = 1\\nvalue = [1, 0]'),\n",
       " Text(0.8290076335877863, 0.4473684210526316, 'gini = 0.0\\nsamples = 4\\nvalue = [4, 0]'),\n",
       " Text(0.8839694656488549, 0.6052631578947368, 'X[3] <= 186500.0\\ngini = 0.489\\nsamples = 139\\nvalue = [59, 80]'),\n",
       " Text(0.8778625954198473, 0.5526315789473685, 'X[9] <= 60042.5\\ngini = 0.475\\nsamples = 131\\nvalue = [51, 80]'),\n",
       " Text(0.8473282442748091, 0.5, 'X[9] <= 60012.5\\ngini = 0.337\\nsamples = 14\\nvalue = [11, 3]'),\n",
       " Text(0.8412213740458016, 0.4473684210526316, 'gini = 0.0\\nsamples = 3\\nvalue = [0, 3]'),\n",
       " Text(0.8534351145038168, 0.4473684210526316, 'gini = 0.0\\nsamples = 11\\nvalue = [11, 0]'),\n",
       " Text(0.9083969465648855, 0.5, 'X[3] <= 119000.0\\ngini = 0.45\\nsamples = 117\\nvalue = [40, 77]'),\n",
       " Text(0.8656488549618321, 0.4473684210526316, 'X[9] <= 60082.5\\ngini = 0.5\\nsamples = 41\\nvalue = [21, 20]'),\n",
       " Text(0.8534351145038168, 0.39473684210526316, 'X[7] <= 86.5\\ngini = 0.245\\nsamples = 14\\nvalue = [2, 12]'),\n",
       " Text(0.8473282442748091, 0.34210526315789475, 'gini = 0.0\\nsamples = 2\\nvalue = [2, 0]'),\n",
       " Text(0.8595419847328244, 0.34210526315789475, 'gini = 0.0\\nsamples = 12\\nvalue = [0, 12]'),\n",
       " Text(0.8778625954198473, 0.39473684210526316, 'X[7] <= 112.5\\ngini = 0.417\\nsamples = 27\\nvalue = [19, 8]'),\n",
       " Text(0.8717557251908397, 0.34210526315789475, 'gini = 0.0\\nsamples = 14\\nvalue = [14, 0]'),\n",
       " Text(0.8839694656488549, 0.34210526315789475, 'X[3] <= 87500.0\\ngini = 0.473\\nsamples = 13\\nvalue = [5, 8]'),\n",
       " Text(0.8778625954198473, 0.2894736842105263, 'gini = 0.0\\nsamples = 6\\nvalue = [0, 6]'),\n",
       " Text(0.8900763358778626, 0.2894736842105263, 'X[1] <= 1340.75\\ngini = 0.408\\nsamples = 7\\nvalue = [5, 2]'),\n",
       " Text(0.8839694656488549, 0.23684210526315788, 'gini = 0.0\\nsamples = 4\\nvalue = [4, 0]'),\n",
       " Text(0.8961832061068702, 0.23684210526315788, 'X[10] <= 108.691\\ngini = 0.444\\nsamples = 3\\nvalue = [1, 2]'),\n",
       " Text(0.8900763358778626, 0.18421052631578946, 'gini = 0.0\\nsamples = 1\\nvalue = [1, 0]'),\n",
       " Text(0.9022900763358779, 0.18421052631578946, 'gini = 0.0\\nsamples = 2\\nvalue = [0, 2]'),\n",
       " Text(0.9511450381679389, 0.4473684210526316, 'X[7] <= 112.5\\ngini = 0.375\\nsamples = 76\\nvalue = [19, 57]'),\n",
       " Text(0.9450381679389313, 0.39473684210526316, 'X[2] <= 2.0\\ngini = 0.33\\nsamples = 72\\nvalue = [15, 57]'),\n",
       " Text(0.932824427480916, 0.34210526315789475, 'X[9] <= 450372.0\\ngini = 0.198\\nsamples = 54\\nvalue = [6, 48]'),\n",
       " Text(0.9267175572519084, 0.2894736842105263, 'X[7] <= 107.0\\ngini = 0.171\\nsamples = 53\\nvalue = [5, 48]'),\n",
       " Text(0.9206106870229007, 0.23684210526315788, 'X[9] <= 111504.0\\ngini = 0.264\\nsamples = 32\\nvalue = [5, 27]'),\n",
       " Text(0.9145038167938931, 0.18421052631578946, 'gini = 0.0\\nsamples = 3\\nvalue = [3, 0]'),\n",
       " Text(0.9267175572519084, 0.18421052631578946, 'X[10] <= 87.103\\ngini = 0.128\\nsamples = 29\\nvalue = [2, 27]'),\n",
       " Text(0.9206106870229007, 0.13157894736842105, 'X[9] <= 151154.5\\ngini = 0.32\\nsamples = 10\\nvalue = [2, 8]'),\n",
       " Text(0.9145038167938931, 0.07894736842105263, 'gini = 0.0\\nsamples = 8\\nvalue = [0, 8]'),\n",
       " Text(0.9267175572519084, 0.07894736842105263, 'gini = 0.0\\nsamples = 2\\nvalue = [2, 0]'),\n",
       " Text(0.932824427480916, 0.13157894736842105, 'gini = 0.0\\nsamples = 19\\nvalue = [0, 19]'),\n",
       " Text(0.932824427480916, 0.23684210526315788, 'gini = 0.0\\nsamples = 21\\nvalue = [0, 21]'),\n",
       " Text(0.9389312977099237, 0.2894736842105263, 'gini = 0.0\\nsamples = 1\\nvalue = [1, 0]'),\n",
       " Text(0.9572519083969465, 0.34210526315789475, 'X[3] <= 139500.0\\ngini = 0.5\\nsamples = 18\\nvalue = [9, 9]'),\n",
       " Text(0.9511450381679389, 0.2894736842105263, 'X[9] <= 65526.0\\ngini = 0.375\\nsamples = 12\\nvalue = [3, 9]'),\n",
       " Text(0.9450381679389313, 0.23684210526315788, 'gini = 0.0\\nsamples = 2\\nvalue = [2, 0]'),\n",
       " Text(0.9572519083969465, 0.23684210526315788, 'X[10] <= 204.929\\ngini = 0.18\\nsamples = 10\\nvalue = [1, 9]'),\n",
       " Text(0.9511450381679389, 0.18421052631578946, 'gini = 0.0\\nsamples = 9\\nvalue = [0, 9]'),\n",
       " Text(0.9633587786259542, 0.18421052631578946, 'gini = 0.0\\nsamples = 1\\nvalue = [1, 0]'),\n",
       " Text(0.9633587786259542, 0.2894736842105263, 'gini = 0.0\\nsamples = 6\\nvalue = [6, 0]'),\n",
       " Text(0.9572519083969465, 0.39473684210526316, 'gini = 0.0\\nsamples = 4\\nvalue = [4, 0]'),\n",
       " Text(0.8900763358778626, 0.5526315789473685, 'gini = 0.0\\nsamples = 8\\nvalue = [8, 0]'),\n",
       " Text(0.9633587786259542, 0.6578947368421053, 'X[9] <= 60033.5\\ngini = 0.38\\nsamples = 47\\nvalue = [12, 35]'),\n",
       " Text(0.9572519083969465, 0.6052631578947368, 'gini = 0.0\\nsamples = 4\\nvalue = [4, 0]'),\n",
       " Text(0.9694656488549618, 0.6052631578947368, 'X[4] <= 1.5\\ngini = 0.303\\nsamples = 43\\nvalue = [8, 35]'),\n",
       " Text(0.9633587786259542, 0.5526315789473685, 'gini = 0.0\\nsamples = 2\\nvalue = [2, 0]'),\n",
       " Text(0.9755725190839695, 0.5526315789473685, 'X[9] <= 530105.5\\ngini = 0.25\\nsamples = 41\\nvalue = [6, 35]'),\n",
       " Text(0.9694656488549618, 0.5, 'X[6] <= 1.0\\ngini = 0.219\\nsamples = 40\\nvalue = [5, 35]'),\n",
       " Text(0.9633587786259542, 0.4473684210526316, 'gini = 0.0\\nsamples = 1\\nvalue = [1, 0]'),\n",
       " Text(0.9755725190839695, 0.4473684210526316, 'X[7] <= 79.0\\ngini = 0.184\\nsamples = 39\\nvalue = [4, 35]'),\n",
       " Text(0.9694656488549618, 0.39473684210526316, 'gini = 0.0\\nsamples = 1\\nvalue = [1, 0]'),\n",
       " Text(0.981679389312977, 0.39473684210526316, 'X[7] <= 107.5\\ngini = 0.145\\nsamples = 38\\nvalue = [3, 35]'),\n",
       " Text(0.9755725190839695, 0.34210526315789475, 'gini = 0.0\\nsamples = 20\\nvalue = [0, 20]'),\n",
       " Text(0.9877862595419847, 0.34210526315789475, 'X[3] <= 175500.0\\ngini = 0.278\\nsamples = 18\\nvalue = [3, 15]'),\n",
       " Text(0.981679389312977, 0.2894736842105263, 'X[7] <= 111.0\\ngini = 0.117\\nsamples = 16\\nvalue = [1, 15]'),\n",
       " Text(0.9755725190839695, 0.23684210526315788, 'gini = 0.0\\nsamples = 1\\nvalue = [1, 0]'),\n",
       " Text(0.9877862595419847, 0.23684210526315788, 'gini = 0.0\\nsamples = 15\\nvalue = [0, 15]'),\n",
       " Text(0.9938931297709923, 0.2894736842105263, 'gini = 0.0\\nsamples = 2\\nvalue = [2, 0]'),\n",
       " Text(0.981679389312977, 0.5, 'gini = 0.0\\nsamples = 1\\nvalue = [1, 0]'),\n",
       " Text(0.9038167938931297, 0.7105263157894737, 'gini = 0.0\\nsamples = 11\\nvalue = [11, 0]'),\n",
       " Text(0.9282442748091603, 0.8157894736842105, 'X[9] <= 60029.5\\ngini = 0.18\\nsamples = 20\\nvalue = [18, 2]'),\n",
       " Text(0.9221374045801527, 0.7631578947368421, 'X[6] <= 4.0\\ngini = 0.444\\nsamples = 3\\nvalue = [1, 2]'),\n",
       " Text(0.916030534351145, 0.7105263157894737, 'gini = 0.0\\nsamples = 1\\nvalue = [1, 0]'),\n",
       " Text(0.9282442748091603, 0.7105263157894737, 'gini = 0.0\\nsamples = 2\\nvalue = [0, 2]'),\n",
       " Text(0.934351145038168, 0.7631578947368421, 'gini = 0.0\\nsamples = 17\\nvalue = [17, 0]')]"
      ]
     },
     "execution_count": 24,
     "metadata": {},
     "output_type": "execute_result"
    },
    {
     "data": {
      "image/png": "[encoded data removed]",
      "text/plain": [
       "<Figure size 640x480 with 1 Axes>"
      ]
     },
     "metadata": {},
     "output_type": "display_data"
    }
   ],
   "source": [
    "tree.plot_tree(model) # alfa değerleri ne kadar yüksekse ağaç o kadar verimlidir\n",
    "#alfa değerleri ne kadar paralelse ağaç o kadar doğru "
   ]
  },
  {
   "cell_type": "code",
   "execution_count": 25,
   "id": "4db60839",
   "metadata": {},
   "outputs": [],
   "source": [
    "#ağaçtaki alfa değerlerini alıyoruz\n",
    "path = model.cost_complexity_pruning_path(X_train, y_train)\n",
    "\n",
    "alphas = path[\"ccp_alphas\"] "
   ]
  },
  {
   "cell_type": "code",
   "execution_count": 26,
   "id": "13af19bf",
   "metadata": {},
   "outputs": [],
   "source": [
    "accuracy_train,accuracy_test=[],[]\n",
    "for i in alphas:\n",
    "    model_prune = DecisionTreeClassifier(ccp_alpha=i)\n",
    "    \n",
    "    model_prune.fit(X_train, y_train)\n",
    "    y_train_pred = model_prune.predict(X_train)\n",
    "    y_test_pred = model_prune.predict(X_test)\n",
    "    \n",
    "    accuracy_train.append(accuracy_score(y_train,y_train_pred))\n",
    "    accuracy_test.append(accuracy_score(y_test,y_test_pred))"
   ]
  },
  {
   "cell_type": "code",
   "execution_count": 35,
   "id": "bde7257a",
   "metadata": {},
   "outputs": [
    {
     "data": {
      "image/png": "[encoded data removed]",
      "text/plain": [
       "<Figure size 640x480 with 1 Axes>"
      ]
     },
     "metadata": {},
     "output_type": "display_data"
    }
   ],
   "source": [
    "sns.lineplot(y=accuracy_train,x=alphas,label='Eğitim Doğruluğu')\n",
    "sns.lineplot(y=accuracy_test,x=alphas,label='Test Doğruluğu')\n",
    "plt.xlabel(\"Alfa Değerleri\")\n",
    "plt.ylabel(\"Doğruluk\")\n",
    "plt.xticks()\n",
    "plt.show()"
   ]
  },
  {
   "cell_type": "code",
   "execution_count": 36,
   "id": "7f05621f",
   "metadata": {},
   "outputs": [
    {
     "data": {
      "text/plain": [
       "DecisionTreeClassifier(ccp_alpha=0.008)"
      ]
     },
     "execution_count": 36,
     "metadata": {},
     "output_type": "execute_result"
    }
   ],
   "source": [
    "model_new = DecisionTreeClassifier(ccp_alpha=0.008)\n",
    "model_new.fit(X_train, y_train)"
   ]
  },
  {
   "cell_type": "code",
   "execution_count": 37,
   "id": "831e3a89",
   "metadata": {},
   "outputs": [
    {
     "name": "stdout",
     "output_type": "stream",
     "text": [
      "Train set accuracy score = 0.6256944444444444\n",
      "Test set accuracy score = 0.6\n"
     ]
    }
   ],
   "source": [
    "print(f\"Train set accuracy score = {accuracy_score(y_train, model_new.predict(X_train))}\")\n",
    "print(f\"Test set accuracy score = {accuracy_score(y_test, model_new.predict(X_test))}\")"
   ]
  },
  {
   "cell_type": "code",
   "execution_count": 38,
   "id": "44858415",
   "metadata": {},
   "outputs": [
    {
     "data": {
      "text/plain": [
       "[Text(0.5, 0.75, 'X[3] <= 79500.0\\ngini = 0.5\\nsamples = 1440\\nvalue = [724, 716]'),\n",
       " Text(0.25, 0.25, 'gini = 0.451\\nsamples = 565\\nvalue = [194, 371]'),\n",
       " Text(0.75, 0.25, 'gini = 0.478\\nsamples = 875\\nvalue = [530, 345]')]"
      ]
     },
     "execution_count": 38,
     "metadata": {},
     "output_type": "execute_result"
    },
    {
     "data": {
      "image/png": "[encoded data removed]",
      "text/plain": [
       "<Figure size 640x480 with 1 Axes>"
      ]
     },
     "metadata": {},
     "output_type": "display_data"
    }
   ],
   "source": [
    "tree.plot_tree(model_new)"
   ]
  },
  {
   "cell_type": "code",
   "execution_count": 39,
   "id": "42d3f430",
   "metadata": {},
   "outputs": [
    {
     "data": {
      "text/plain": [
       "<AxesSubplot:>"
      ]
     },
     "execution_count": 39,
     "metadata": {},
     "output_type": "execute_result"
    },
    {
     "data": {
      "image/png": "[encoded data removed]",
      "text/plain": [
       "<Figure size 640x480 with 2 Axes>"
      ]
     },
     "metadata": {},
     "output_type": "display_data"
    }
   ],
   "source": [
    "sns.heatmap(confusion_matrix(y_test, model_new.predict(X_test)),\n",
    "           annot=True, fmt=\"g\") #tahminler hakkında soldan sağa doğru \n",
    "#ters yanlış üst sağdan alt sola \n",
    "#karmaşıklık matrisi"
   ]
  },
  {
   "cell_type": "code",
   "execution_count": 1,
   "id": "919f3097",
   "metadata": {},
   "outputs": [
    {
     "data": {
      "text/plain": [
       "(360, 0.6)"
      ]
     },
     "execution_count": 1,
     "metadata": {},
     "output_type": "execute_result"
    }
   ],
   "source": [
    "(131+45+99+85) , (85+131)/360"
   ]
  },
  {
   "cell_type": "code",
   "execution_count": 33,
   "id": "1ecba89f",
   "metadata": {},
   "outputs": [
    {
     "data": {
      "text/plain": [
       "360"
      ]
     },
     "execution_count": 33,
     "metadata": {},
     "output_type": "execute_result"
    }
   ],
   "source": [
    "(131+45+99+85)"
   ]
  },
  {
   "cell_type": "code",
   "execution_count": 34,
   "id": "0413fe1c",
   "metadata": {},
   "outputs": [
    {
     "data": {
      "text/plain": [
       "0.6"
      ]
     },
     "execution_count": 34,
     "metadata": {},
     "output_type": "execute_result"
    }
   ],
   "source": [
    "(85+131)/360"
   ]
  },
  {
   "cell_type": "code",
   "execution_count": null,
   "id": "d656d241",
   "metadata": {},
   "outputs": [],
   "source": []
  }
 ],
 "metadata": {
  "kernelspec": {
   "display_name": "Python 3 (ipykernel)",
   "language": "python",
   "name": "python3"
  },
  "language_info": {
   "codemirror_mode": {
    "name": "ipython",
    "version": 3
   },
   "file_extension": ".py",
   "mimetype": "text/x-python",
   "name": "python",
   "nbconvert_exporter": "python",
   "pygments_lexer": "ipython3",
   "version": "3.9.13"
  }
 },
 "nbformat": 4,
 "nbformat_minor": 5
}
